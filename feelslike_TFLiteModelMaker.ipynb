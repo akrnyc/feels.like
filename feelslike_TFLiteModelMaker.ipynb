{
  "nbformat": 4,
  "nbformat_minor": 0,
  "metadata": {
    "accelerator": "GPU",
    "colab": {
      "name": "feelslike_TFLiteModelMaker.ipynb",
      "provenance": [],
      "collapsed_sections": [],
      "toc_visible": true
    },
    "kernelspec": {
      "display_name": "Python 3",
      "name": "python3"
    }
  },
  "cells": [
    {
      "cell_type": "markdown",
      "metadata": {
        "id": "h2q27gKz1H20"
      },
      "source": [
        "##### Copyright 2020 The TensorFlow Authors."
      ]
    },
    {
      "cell_type": "code",
      "metadata": {
        "cellView": "form",
        "id": "TUfAcER1oUS6"
      },
      "source": [
        "#@title Licensed under the Apache License, Version 2.0 (the \"License\");\n",
        "# you may not use this file except in compliance with the License.\n",
        "# You may obtain a copy of the License at\n",
        "#\n",
        "# https://www.apache.org/licenses/LICENSE-2.0\n",
        "#\n",
        "# Unless required by applicable law or agreed to in writing, software\n",
        "# distributed under the License is distributed on an \"AS IS\" BASIS,\n",
        "# WITHOUT WARRANTIES OR CONDITIONS OF ANY KIND, either express or implied.\n",
        "# See the License for the specific language governing permissions and\n",
        "# limitations under the License."
      ],
      "execution_count": 1,
      "outputs": []
    },
    {
      "cell_type": "markdown",
      "metadata": {
        "id": "Gb7qyhNL1yWt"
      },
      "source": [
        "# feels.like with TensorFlow Lite Model Maker with TensorFlow 2.0"
      ]
    },
    {
      "cell_type": "markdown",
      "metadata": {
        "id": "nDABAblytltI"
      },
      "source": [
        "<table class=\"tfo-notebook-buttons\" align=\"left\">\n",
        "  <td>\n",
        "    <a target=\"_blank\" href=\"https://colab.research.google.com/github/tensorflow/examples/blob/master/lite/codelabs/flower_classification/ml/Flower_Classification_with_TFLite_Model_Maker.ipynb\">      \n",
        "    <img src=\"https://www.tensorflow.org/images/colab_logo_32px.png\" />\n",
        "    Run in Google Colab</a>\n",
        "  </td>\n",
        "  <td>\n",
        "    <a target=\"_blank\" href=\"https://github.com/tensorflow/examples/blob/master/lite/codelabs/flower_classification/ml/Flower_Classification_with_TFLite_Model_Maker.ipynb\">\n",
        "    <img src=\"https://www.tensorflow.org/images/GitHub-Mark-32px.png\" />\n",
        "    View source on GitHub</a>\n",
        "  </td>\n",
        "</table>"
      ]
    },
    {
      "cell_type": "markdown",
      "metadata": {
        "id": "m86-Nh4pMHqY"
      },
      "source": [
        "Model Maker library simplifies the process of adapting and converting a TensorFlow neural-network model to particular input data when deploying this model for on-device ML applications.\n",
        "\n",
        "This notebook shows an end-to-end example that utilizes this Model Maker library to illustrate the adaption and conversion of a commonly-used image classification model to classify flowers on a mobile device."
      ]
    },
    {
      "cell_type": "markdown",
      "metadata": {
        "id": "A8fYEdT7SMBx"
      },
      "source": [
        "# Additional Data Sources\n",
        "\n",
        "DeepFashion (http://mmlab.ie.cuhk.edu.hk/projects/DeepFashion.html)\n",
        "\n",
        "@inproceedings{liuLQWTcvpr16DeepFashion,\n",
        " author = {Liu, Ziwei and Luo, Ping and Qiu, Shi and Wang, Xiaogang and Tang, Xiaoou},\n",
        " title = {DeepFashion: Powering Robust Clothes Recognition and Retrieval with Rich Annotations},\n",
        " booktitle = {Proceedings of IEEE Conference on Computer Vision and Pattern Recognition (CVPR)},\n",
        " month = {June},\n",
        " year = {2016} \n",
        " }"
      ]
    },
    {
      "cell_type": "markdown",
      "metadata": {
        "id": "bcLF2PKkSbV3"
      },
      "source": [
        "## Prerequisites\n",
        "\n",
        "To run this example, we first need to install serveral required packages, including Model Maker package that in github [repo](https://github.com/tensorflow/examples/tree/master/tensorflow_examples/lite/model_maker)."
      ]
    },
    {
      "cell_type": "code",
      "metadata": {
        "id": "6cv3K3oaksJv",
        "colab": {
          "base_uri": "https://localhost:8080/"
        },
        "outputId": "62bb0b8a-74c9-4252-9050-56528d124b86"
      },
      "source": [
        "!pip install tflite-model-maker-nightly"
      ],
      "execution_count": 2,
      "outputs": [
        {
          "output_type": "stream",
          "text": [
            "Collecting tflite-model-maker-nightly\n",
            "\u001b[?25l  Downloading https://files.pythonhosted.org/packages/08/47/67e09caa72db6aa6077ba780574e364579fb1517dd6146285d7b67aa0df7/tflite_model_maker_nightly-0.3.3.dev202105312255-py3-none-any.whl (592kB)\n",
            "\r\u001b[K     |▌                               | 10kB 24.1MB/s eta 0:00:01\r\u001b[K     |█                               | 20kB 29.9MB/s eta 0:00:01\r\u001b[K     |█▋                              | 30kB 22.6MB/s eta 0:00:01\r\u001b[K     |██▏                             | 40kB 17.3MB/s eta 0:00:01\r\u001b[K     |██▊                             | 51kB 9.4MB/s eta 0:00:01\r\u001b[K     |███▎                            | 61kB 9.7MB/s eta 0:00:01\r\u001b[K     |███▉                            | 71kB 9.8MB/s eta 0:00:01\r\u001b[K     |████▍                           | 81kB 10.8MB/s eta 0:00:01\r\u001b[K     |█████                           | 92kB 11.1MB/s eta 0:00:01\r\u001b[K     |█████▌                          | 102kB 9.1MB/s eta 0:00:01\r\u001b[K     |██████                          | 112kB 9.1MB/s eta 0:00:01\r\u001b[K     |██████▋                         | 122kB 9.1MB/s eta 0:00:01\r\u001b[K     |███████▏                        | 133kB 9.1MB/s eta 0:00:01\r\u001b[K     |███████▊                        | 143kB 9.1MB/s eta 0:00:01\r\u001b[K     |████████▎                       | 153kB 9.1MB/s eta 0:00:01\r\u001b[K     |████████▉                       | 163kB 9.1MB/s eta 0:00:01\r\u001b[K     |█████████▍                      | 174kB 9.1MB/s eta 0:00:01\r\u001b[K     |██████████                      | 184kB 9.1MB/s eta 0:00:01\r\u001b[K     |██████████▌                     | 194kB 9.1MB/s eta 0:00:01\r\u001b[K     |███████████                     | 204kB 9.1MB/s eta 0:00:01\r\u001b[K     |███████████▋                    | 215kB 9.1MB/s eta 0:00:01\r\u001b[K     |████████████▏                   | 225kB 9.1MB/s eta 0:00:01\r\u001b[K     |████████████▊                   | 235kB 9.1MB/s eta 0:00:01\r\u001b[K     |█████████████▎                  | 245kB 9.1MB/s eta 0:00:01\r\u001b[K     |█████████████▉                  | 256kB 9.1MB/s eta 0:00:01\r\u001b[K     |██████████████▍                 | 266kB 9.1MB/s eta 0:00:01\r\u001b[K     |███████████████                 | 276kB 9.1MB/s eta 0:00:01\r\u001b[K     |███████████████▌                | 286kB 9.1MB/s eta 0:00:01\r\u001b[K     |████████████████                | 296kB 9.1MB/s eta 0:00:01\r\u001b[K     |████████████████▋               | 307kB 9.1MB/s eta 0:00:01\r\u001b[K     |█████████████████▏              | 317kB 9.1MB/s eta 0:00:01\r\u001b[K     |█████████████████▊              | 327kB 9.1MB/s eta 0:00:01\r\u001b[K     |██████████████████▎             | 337kB 9.1MB/s eta 0:00:01\r\u001b[K     |██████████████████▉             | 348kB 9.1MB/s eta 0:00:01\r\u001b[K     |███████████████████▍            | 358kB 9.1MB/s eta 0:00:01\r\u001b[K     |████████████████████            | 368kB 9.1MB/s eta 0:00:01\r\u001b[K     |████████████████████▌           | 378kB 9.1MB/s eta 0:00:01\r\u001b[K     |█████████████████████           | 389kB 9.1MB/s eta 0:00:01\r\u001b[K     |█████████████████████▋          | 399kB 9.1MB/s eta 0:00:01\r\u001b[K     |██████████████████████▏         | 409kB 9.1MB/s eta 0:00:01\r\u001b[K     |██████████████████████▊         | 419kB 9.1MB/s eta 0:00:01\r\u001b[K     |███████████████████████▎        | 430kB 9.1MB/s eta 0:00:01\r\u001b[K     |███████████████████████▉        | 440kB 9.1MB/s eta 0:00:01\r\u001b[K     |████████████████████████▍       | 450kB 9.1MB/s eta 0:00:01\r\u001b[K     |█████████████████████████       | 460kB 9.1MB/s eta 0:00:01\r\u001b[K     |█████████████████████████▌      | 471kB 9.1MB/s eta 0:00:01\r\u001b[K     |██████████████████████████      | 481kB 9.1MB/s eta 0:00:01\r\u001b[K     |██████████████████████████▋     | 491kB 9.1MB/s eta 0:00:01\r\u001b[K     |███████████████████████████▏    | 501kB 9.1MB/s eta 0:00:01\r\u001b[K     |███████████████████████████▊    | 512kB 9.1MB/s eta 0:00:01\r\u001b[K     |████████████████████████████▎   | 522kB 9.1MB/s eta 0:00:01\r\u001b[K     |████████████████████████████▊   | 532kB 9.1MB/s eta 0:00:01\r\u001b[K     |█████████████████████████████▎  | 542kB 9.1MB/s eta 0:00:01\r\u001b[K     |█████████████████████████████▉  | 552kB 9.1MB/s eta 0:00:01\r\u001b[K     |██████████████████████████████▍ | 563kB 9.1MB/s eta 0:00:01\r\u001b[K     |███████████████████████████████ | 573kB 9.1MB/s eta 0:00:01\r\u001b[K     |███████████████████████████████▌| 583kB 9.1MB/s eta 0:00:01\r\u001b[K     |████████████████████████████████| 593kB 9.1MB/s \n",
            "\u001b[?25hRequirement already satisfied: tensorflow>=2.5.0rc0 in /usr/local/lib/python3.7/dist-packages (from tflite-model-maker-nightly) (2.5.0)\n",
            "Collecting tfa-nightly\n",
            "\u001b[?25l  Downloading https://files.pythonhosted.org/packages/4a/e1/d9891190084521480c0d0ebee18c5fba63c2247e74a3c93d50a09afb4d86/tfa_nightly-0.14.0.dev20210529132209-cp37-cp37m-manylinux2010_x86_64.whl (1.1MB)\n",
            "\u001b[K     |████████████████████████████████| 1.1MB 19.0MB/s \n",
            "\u001b[?25hRequirement already satisfied: six>=1.12.0 in /usr/local/lib/python3.7/dist-packages (from tflite-model-maker-nightly) (1.15.0)\n",
            "Collecting sentencepiece>=0.1.91\n",
            "\u001b[?25l  Downloading https://files.pythonhosted.org/packages/f5/99/e0808cb947ba10f575839c43e8fafc9cc44e4a7a2c8f79c60db48220a577/sentencepiece-0.1.95-cp37-cp37m-manylinux2014_x86_64.whl (1.2MB)\n",
            "\u001b[K     |████████████████████████████████| 1.2MB 51.7MB/s \n",
            "\u001b[?25hCollecting tf-hub-nightly\n",
            "\u001b[?25l  Downloading https://files.pythonhosted.org/packages/df/90/8fe14f5a412e728353071f467631e6ea04e2976923f612b8779971142f45/tf_hub_nightly-0.13.0.dev202106010007-py2.py3-none-any.whl (109kB)\n",
            "\u001b[K     |████████████████████████████████| 112kB 54.9MB/s \n",
            "\u001b[?25hRequirement already satisfied: numpy>=1.17.3 in /usr/local/lib/python3.7/dist-packages (from tflite-model-maker-nightly) (1.19.5)\n",
            "Collecting tensorflow-model-optimization>=0.5\n",
            "\u001b[?25l  Downloading https://files.pythonhosted.org/packages/55/38/4fd48ea1bfcb0b6e36d949025200426fe9c3a8bfae029f0973d85518fa5a/tensorflow_model_optimization-0.5.0-py2.py3-none-any.whl (172kB)\n",
            "\u001b[K     |████████████████████████████████| 174kB 46.1MB/s \n",
            "\u001b[?25hRequirement already satisfied: pillow>=7.0.0 in /usr/local/lib/python3.7/dist-packages (from tflite-model-maker-nightly) (7.1.2)\n",
            "Requirement already satisfied: urllib3!=1.25.0,!=1.25.1,<1.26,>=1.21.1 in /usr/local/lib/python3.7/dist-packages (from tflite-model-maker-nightly) (1.24.3)\n",
            "Requirement already satisfied: Cython>=0.29.13 in /usr/local/lib/python3.7/dist-packages (from tflite-model-maker-nightly) (0.29.23)\n",
            "Collecting tflite-support-nightly\n",
            "\u001b[?25l  Downloading https://files.pythonhosted.org/packages/c9/94/92cedc19c895c96b9f2144f447943aac0a9649e67e67543b4a45f0686757/tflite_support_nightly-0.1.0.dev20210531-cp37-cp37m-manylinux_2_12_x86_64.manylinux2010_x86_64.whl (1.1MB)\n",
            "\u001b[K     |████████████████████████████████| 1.1MB 51.0MB/s \n",
            "\u001b[?25hCollecting tf-models-official==2.3.0\n",
            "\u001b[?25l  Downloading https://files.pythonhosted.org/packages/5b/33/91e5e90e3e96292717245d3fe87eb3b35b07c8a2113f2da7f482040facdb/tf_models_official-2.3.0-py2.py3-none-any.whl (840kB)\n",
            "\u001b[K     |████████████████████████████████| 849kB 49.8MB/s \n",
            "\u001b[?25hRequirement already satisfied: librosa>=0.5 in /usr/local/lib/python3.7/dist-packages (from tflite-model-maker-nightly) (0.8.0)\n",
            "Requirement already satisfied: absl-py>=0.10.0 in /usr/local/lib/python3.7/dist-packages (from tflite-model-maker-nightly) (0.12.0)\n",
            "Collecting lxml>=4.6.1\n",
            "\u001b[?25l  Downloading https://files.pythonhosted.org/packages/30/c0/d0526314971fc661b083ab135747dc68446a3022686da8c16d25fcf6ef07/lxml-4.6.3-cp37-cp37m-manylinux2014_x86_64.whl (6.3MB)\n",
            "\u001b[K     |████████████████████████████████| 6.3MB 27.8MB/s \n",
            "\u001b[?25hCollecting PyYAML>=5.1\n",
            "\u001b[?25l  Downloading https://files.pythonhosted.org/packages/7a/a5/393c087efdc78091afa2af9f1378762f9821c9c1d7a22c5753fb5ac5f97a/PyYAML-5.4.1-cp37-cp37m-manylinux1_x86_64.whl (636kB)\n",
            "\u001b[K     |████████████████████████████████| 645kB 47.1MB/s \n",
            "\u001b[?25hCollecting fire>=0.3.1\n",
            "\u001b[?25l  Downloading https://files.pythonhosted.org/packages/11/07/a119a1aa04d37bc819940d95ed7e135a7dcca1c098123a3764a6dcace9e7/fire-0.4.0.tar.gz (87kB)\n",
            "\u001b[K     |████████████████████████████████| 92kB 12.5MB/s \n",
            "\u001b[?25hRequirement already satisfied: flatbuffers==1.12 in /usr/local/lib/python3.7/dist-packages (from tflite-model-maker-nightly) (1.12)\n",
            "Collecting neural-structured-learning>=1.3.1\n",
            "\u001b[?25l  Downloading https://files.pythonhosted.org/packages/8a/23/179e6b7555000de51d9a317e9e47db84cda0180c941cfbf14775925af611/neural_structured_learning-1.3.1-py2.py3-none-any.whl (120kB)\n",
            "\u001b[K     |████████████████████████████████| 122kB 48.8MB/s \n",
            "\u001b[?25hRequirement already satisfied: matplotlib>=3.0.3 in /usr/local/lib/python3.7/dist-packages (from tflite-model-maker-nightly) (3.2.2)\n",
            "Requirement already satisfied: tensorflow-datasets>=2.1.0 in /usr/local/lib/python3.7/dist-packages (from tflite-model-maker-nightly) (4.0.1)\n",
            "Requirement already satisfied: tensorboard~=2.5 in /usr/local/lib/python3.7/dist-packages (from tensorflow>=2.5.0rc0->tflite-model-maker-nightly) (2.5.0)\n",
            "Requirement already satisfied: astunparse~=1.6.3 in /usr/local/lib/python3.7/dist-packages (from tensorflow>=2.5.0rc0->tflite-model-maker-nightly) (1.6.3)\n",
            "Requirement already satisfied: gast==0.4.0 in /usr/local/lib/python3.7/dist-packages (from tensorflow>=2.5.0rc0->tflite-model-maker-nightly) (0.4.0)\n",
            "Requirement already satisfied: wheel~=0.35 in /usr/local/lib/python3.7/dist-packages (from tensorflow>=2.5.0rc0->tflite-model-maker-nightly) (0.36.2)\n",
            "Requirement already satisfied: typing-extensions~=3.7.4 in /usr/local/lib/python3.7/dist-packages (from tensorflow>=2.5.0rc0->tflite-model-maker-nightly) (3.7.4.3)\n",
            "Requirement already satisfied: opt-einsum~=3.3.0 in /usr/local/lib/python3.7/dist-packages (from tensorflow>=2.5.0rc0->tflite-model-maker-nightly) (3.3.0)\n",
            "Requirement already satisfied: wrapt~=1.12.1 in /usr/local/lib/python3.7/dist-packages (from tensorflow>=2.5.0rc0->tflite-model-maker-nightly) (1.12.1)\n",
            "Requirement already satisfied: h5py~=3.1.0 in /usr/local/lib/python3.7/dist-packages (from tensorflow>=2.5.0rc0->tflite-model-maker-nightly) (3.1.0)\n",
            "Requirement already satisfied: protobuf>=3.9.2 in /usr/local/lib/python3.7/dist-packages (from tensorflow>=2.5.0rc0->tflite-model-maker-nightly) (3.12.4)\n",
            "Requirement already satisfied: keras-nightly~=2.5.0.dev in /usr/local/lib/python3.7/dist-packages (from tensorflow>=2.5.0rc0->tflite-model-maker-nightly) (2.5.0.dev2021032900)\n",
            "Requirement already satisfied: google-pasta~=0.2 in /usr/local/lib/python3.7/dist-packages (from tensorflow>=2.5.0rc0->tflite-model-maker-nightly) (0.2.0)\n",
            "Requirement already satisfied: tensorflow-estimator<2.6.0,>=2.5.0rc0 in /usr/local/lib/python3.7/dist-packages (from tensorflow>=2.5.0rc0->tflite-model-maker-nightly) (2.5.0)\n",
            "Requirement already satisfied: keras-preprocessing~=1.1.2 in /usr/local/lib/python3.7/dist-packages (from tensorflow>=2.5.0rc0->tflite-model-maker-nightly) (1.1.2)\n",
            "Requirement already satisfied: termcolor~=1.1.0 in /usr/local/lib/python3.7/dist-packages (from tensorflow>=2.5.0rc0->tflite-model-maker-nightly) (1.1.0)\n",
            "Requirement already satisfied: grpcio~=1.34.0 in /usr/local/lib/python3.7/dist-packages (from tensorflow>=2.5.0rc0->tflite-model-maker-nightly) (1.34.1)\n",
            "Requirement already satisfied: typeguard>=2.7 in /usr/local/lib/python3.7/dist-packages (from tfa-nightly->tflite-model-maker-nightly) (2.7.1)\n",
            "Requirement already satisfied: dm-tree~=0.1.1 in /usr/local/lib/python3.7/dist-packages (from tensorflow-model-optimization>=0.5->tflite-model-maker-nightly) (0.1.6)\n",
            "Collecting pybind11>=2.6.0\n",
            "\u001b[?25l  Downloading https://files.pythonhosted.org/packages/8d/43/7339dbabbc2793718d59703aace4166f53c29ee1c202f6ff5bf8a26c4d91/pybind11-2.6.2-py2.py3-none-any.whl (191kB)\n",
            "\u001b[K     |████████████████████████████████| 194kB 53.2MB/s \n",
            "\u001b[?25hRequirement already satisfied: google-api-python-client>=1.6.7 in /usr/local/lib/python3.7/dist-packages (from tf-models-official==2.3.0->tflite-model-maker-nightly) (1.12.8)\n",
            "Requirement already satisfied: psutil>=5.4.3 in /usr/local/lib/python3.7/dist-packages (from tf-models-official==2.3.0->tflite-model-maker-nightly) (5.4.8)\n",
            "Collecting opencv-python-headless\n",
            "\u001b[?25l  Downloading https://files.pythonhosted.org/packages/c8/84/72ec52fbac4775c2a5bf0ee5573c922a0cac35eb841907edf56493a5e313/opencv_python_headless-4.5.2.52-cp37-cp37m-manylinux2014_x86_64.whl (38.2MB)\n",
            "\u001b[K     |████████████████████████████████| 38.2MB 64kB/s \n",
            "\u001b[?25hCollecting dataclasses\n",
            "  Downloading https://files.pythonhosted.org/packages/26/2f/1095cdc2868052dd1e64520f7c0d5c8c550ad297e944e641dbf1ffbb9a5d/dataclasses-0.6-py3-none-any.whl\n",
            "Collecting py-cpuinfo>=3.3.0\n",
            "\u001b[?25l  Downloading https://files.pythonhosted.org/packages/e6/ba/77120e44cbe9719152415b97d5bfb29f4053ee987d6cb63f55ce7d50fadc/py-cpuinfo-8.0.0.tar.gz (99kB)\n",
            "\u001b[K     |████████████████████████████████| 102kB 12.7MB/s \n",
            "\u001b[?25hRequirement already satisfied: scipy>=0.19.1 in /usr/local/lib/python3.7/dist-packages (from tf-models-official==2.3.0->tflite-model-maker-nightly) (1.4.1)\n",
            "Collecting tensorflow-addons\n",
            "\u001b[?25l  Downloading https://files.pythonhosted.org/packages/66/4b/e893d194e626c24b3df2253066aa418f46a432fdb68250cde14bf9bb0700/tensorflow_addons-0.13.0-cp37-cp37m-manylinux2010_x86_64.whl (679kB)\n",
            "\u001b[K     |████████████████████████████████| 686kB 36.4MB/s \n",
            "\u001b[?25hRequirement already satisfied: kaggle>=1.3.9 in /usr/local/lib/python3.7/dist-packages (from tf-models-official==2.3.0->tflite-model-maker-nightly) (1.5.12)\n",
            "Requirement already satisfied: gin-config in /usr/local/lib/python3.7/dist-packages (from tf-models-official==2.3.0->tflite-model-maker-nightly) (0.4.0)\n",
            "Collecting tf-slim>=1.1.0\n",
            "\u001b[?25l  Downloading https://files.pythonhosted.org/packages/02/97/b0f4a64df018ca018cc035d44f2ef08f91e2e8aa67271f6f19633a015ff7/tf_slim-1.1.0-py2.py3-none-any.whl (352kB)\n",
            "\u001b[K     |████████████████████████████████| 358kB 50.6MB/s \n",
            "\u001b[?25hRequirement already satisfied: tensorflow-hub>=0.6.0 in /usr/local/lib/python3.7/dist-packages (from tf-models-official==2.3.0->tflite-model-maker-nightly) (0.12.0)\n",
            "Requirement already satisfied: google-cloud-bigquery>=0.31.0 in /usr/local/lib/python3.7/dist-packages (from tf-models-official==2.3.0->tflite-model-maker-nightly) (1.21.0)\n",
            "Requirement already satisfied: pandas>=0.22.0 in /usr/local/lib/python3.7/dist-packages (from tf-models-official==2.3.0->tflite-model-maker-nightly) (1.1.5)\n",
            "Requirement already satisfied: pooch>=1.0 in /usr/local/lib/python3.7/dist-packages (from librosa>=0.5->tflite-model-maker-nightly) (1.3.0)\n",
            "Requirement already satisfied: decorator>=3.0.0 in /usr/local/lib/python3.7/dist-packages (from librosa>=0.5->tflite-model-maker-nightly) (4.4.2)\n",
            "Requirement already satisfied: scikit-learn!=0.19.0,>=0.14.0 in /usr/local/lib/python3.7/dist-packages (from librosa>=0.5->tflite-model-maker-nightly) (0.22.2.post1)\n",
            "Requirement already satisfied: audioread>=2.0.0 in /usr/local/lib/python3.7/dist-packages (from librosa>=0.5->tflite-model-maker-nightly) (2.1.9)\n",
            "Requirement already satisfied: soundfile>=0.9.0 in /usr/local/lib/python3.7/dist-packages (from librosa>=0.5->tflite-model-maker-nightly) (0.10.3.post1)\n",
            "Requirement already satisfied: numba>=0.43.0 in /usr/local/lib/python3.7/dist-packages (from librosa>=0.5->tflite-model-maker-nightly) (0.51.2)\n",
            "Requirement already satisfied: resampy>=0.2.2 in /usr/local/lib/python3.7/dist-packages (from librosa>=0.5->tflite-model-maker-nightly) (0.2.2)\n",
            "Requirement already satisfied: joblib>=0.14 in /usr/local/lib/python3.7/dist-packages (from librosa>=0.5->tflite-model-maker-nightly) (1.0.1)\n",
            "Requirement already satisfied: attrs in /usr/local/lib/python3.7/dist-packages (from neural-structured-learning>=1.3.1->tflite-model-maker-nightly) (21.2.0)\n",
            "Requirement already satisfied: python-dateutil>=2.1 in /usr/local/lib/python3.7/dist-packages (from matplotlib>=3.0.3->tflite-model-maker-nightly) (2.8.1)\n",
            "Requirement already satisfied: pyparsing!=2.0.4,!=2.1.2,!=2.1.6,>=2.0.1 in /usr/local/lib/python3.7/dist-packages (from matplotlib>=3.0.3->tflite-model-maker-nightly) (2.4.7)\n",
            "Requirement already satisfied: kiwisolver>=1.0.1 in /usr/local/lib/python3.7/dist-packages (from matplotlib>=3.0.3->tflite-model-maker-nightly) (1.3.1)\n",
            "Requirement already satisfied: cycler>=0.10 in /usr/local/lib/python3.7/dist-packages (from matplotlib>=3.0.3->tflite-model-maker-nightly) (0.10.0)\n",
            "Requirement already satisfied: promise in /usr/local/lib/python3.7/dist-packages (from tensorflow-datasets>=2.1.0->tflite-model-maker-nightly) (2.3)\n",
            "Requirement already satisfied: dill in /usr/local/lib/python3.7/dist-packages (from tensorflow-datasets>=2.1.0->tflite-model-maker-nightly) (0.3.3)\n",
            "Requirement already satisfied: tensorflow-metadata in /usr/local/lib/python3.7/dist-packages (from tensorflow-datasets>=2.1.0->tflite-model-maker-nightly) (1.0.0)\n",
            "Requirement already satisfied: future in /usr/local/lib/python3.7/dist-packages (from tensorflow-datasets>=2.1.0->tflite-model-maker-nightly) (0.16.0)\n",
            "Requirement already satisfied: tqdm in /usr/local/lib/python3.7/dist-packages (from tensorflow-datasets>=2.1.0->tflite-model-maker-nightly) (4.41.1)\n",
            "Requirement already satisfied: requests>=2.19.0 in /usr/local/lib/python3.7/dist-packages (from tensorflow-datasets>=2.1.0->tflite-model-maker-nightly) (2.23.0)\n",
            "Requirement already satisfied: importlib-resources; python_version < \"3.9\" in /usr/local/lib/python3.7/dist-packages (from tensorflow-datasets>=2.1.0->tflite-model-maker-nightly) (5.1.3)\n",
            "Requirement already satisfied: markdown>=2.6.8 in /usr/local/lib/python3.7/dist-packages (from tensorboard~=2.5->tensorflow>=2.5.0rc0->tflite-model-maker-nightly) (3.3.4)\n",
            "Requirement already satisfied: werkzeug>=0.11.15 in /usr/local/lib/python3.7/dist-packages (from tensorboard~=2.5->tensorflow>=2.5.0rc0->tflite-model-maker-nightly) (1.0.1)\n",
            "Requirement already satisfied: tensorboard-data-server<0.7.0,>=0.6.0 in /usr/local/lib/python3.7/dist-packages (from tensorboard~=2.5->tensorflow>=2.5.0rc0->tflite-model-maker-nightly) (0.6.1)\n",
            "Requirement already satisfied: google-auth-oauthlib<0.5,>=0.4.1 in /usr/local/lib/python3.7/dist-packages (from tensorboard~=2.5->tensorflow>=2.5.0rc0->tflite-model-maker-nightly) (0.4.4)\n",
            "Requirement already satisfied: setuptools>=41.0.0 in /usr/local/lib/python3.7/dist-packages (from tensorboard~=2.5->tensorflow>=2.5.0rc0->tflite-model-maker-nightly) (56.1.0)\n",
            "Requirement already satisfied: google-auth<2,>=1.6.3 in /usr/local/lib/python3.7/dist-packages (from tensorboard~=2.5->tensorflow>=2.5.0rc0->tflite-model-maker-nightly) (1.30.0)\n",
            "Requirement already satisfied: tensorboard-plugin-wit>=1.6.0 in /usr/local/lib/python3.7/dist-packages (from tensorboard~=2.5->tensorflow>=2.5.0rc0->tflite-model-maker-nightly) (1.8.0)\n",
            "Requirement already satisfied: cached-property; python_version < \"3.8\" in /usr/local/lib/python3.7/dist-packages (from h5py~=3.1.0->tensorflow>=2.5.0rc0->tflite-model-maker-nightly) (1.5.2)\n",
            "Requirement already satisfied: httplib2<1dev,>=0.15.0 in /usr/local/lib/python3.7/dist-packages (from google-api-python-client>=1.6.7->tf-models-official==2.3.0->tflite-model-maker-nightly) (0.17.4)\n",
            "Requirement already satisfied: google-api-core<2dev,>=1.21.0 in /usr/local/lib/python3.7/dist-packages (from google-api-python-client>=1.6.7->tf-models-official==2.3.0->tflite-model-maker-nightly) (1.26.3)\n",
            "Requirement already satisfied: google-auth-httplib2>=0.0.3 in /usr/local/lib/python3.7/dist-packages (from google-api-python-client>=1.6.7->tf-models-official==2.3.0->tflite-model-maker-nightly) (0.0.4)\n",
            "Requirement already satisfied: uritemplate<4dev,>=3.0.0 in /usr/local/lib/python3.7/dist-packages (from google-api-python-client>=1.6.7->tf-models-official==2.3.0->tflite-model-maker-nightly) (3.0.1)\n",
            "Requirement already satisfied: python-slugify in /usr/local/lib/python3.7/dist-packages (from kaggle>=1.3.9->tf-models-official==2.3.0->tflite-model-maker-nightly) (5.0.2)\n",
            "Requirement already satisfied: certifi in /usr/local/lib/python3.7/dist-packages (from kaggle>=1.3.9->tf-models-official==2.3.0->tflite-model-maker-nightly) (2020.12.5)\n",
            "Requirement already satisfied: google-resumable-media!=0.4.0,<0.5.0dev,>=0.3.1 in /usr/local/lib/python3.7/dist-packages (from google-cloud-bigquery>=0.31.0->tf-models-official==2.3.0->tflite-model-maker-nightly) (0.4.1)\n",
            "Requirement already satisfied: google-cloud-core<2.0dev,>=1.0.3 in /usr/local/lib/python3.7/dist-packages (from google-cloud-bigquery>=0.31.0->tf-models-official==2.3.0->tflite-model-maker-nightly) (1.0.3)\n",
            "Requirement already satisfied: pytz>=2017.2 in /usr/local/lib/python3.7/dist-packages (from pandas>=0.22.0->tf-models-official==2.3.0->tflite-model-maker-nightly) (2018.9)\n",
            "Requirement already satisfied: packaging in /usr/local/lib/python3.7/dist-packages (from pooch>=1.0->librosa>=0.5->tflite-model-maker-nightly) (20.9)\n",
            "Requirement already satisfied: appdirs in /usr/local/lib/python3.7/dist-packages (from pooch>=1.0->librosa>=0.5->tflite-model-maker-nightly) (1.4.4)\n",
            "Requirement already satisfied: cffi>=1.0 in /usr/local/lib/python3.7/dist-packages (from soundfile>=0.9.0->librosa>=0.5->tflite-model-maker-nightly) (1.14.5)\n",
            "Requirement already satisfied: llvmlite<0.35,>=0.34.0.dev0 in /usr/local/lib/python3.7/dist-packages (from numba>=0.43.0->librosa>=0.5->tflite-model-maker-nightly) (0.34.0)\n",
            "Requirement already satisfied: googleapis-common-protos<2,>=1.52.0 in /usr/local/lib/python3.7/dist-packages (from tensorflow-metadata->tensorflow-datasets>=2.1.0->tflite-model-maker-nightly) (1.53.0)\n",
            "Requirement already satisfied: idna<3,>=2.5 in /usr/local/lib/python3.7/dist-packages (from requests>=2.19.0->tensorflow-datasets>=2.1.0->tflite-model-maker-nightly) (2.10)\n",
            "Requirement already satisfied: chardet<4,>=3.0.2 in /usr/local/lib/python3.7/dist-packages (from requests>=2.19.0->tensorflow-datasets>=2.1.0->tflite-model-maker-nightly) (3.0.4)\n",
            "Requirement already satisfied: zipp>=0.4; python_version < \"3.8\" in /usr/local/lib/python3.7/dist-packages (from importlib-resources; python_version < \"3.9\"->tensorflow-datasets>=2.1.0->tflite-model-maker-nightly) (3.4.1)\n",
            "Requirement already satisfied: importlib-metadata; python_version < \"3.8\" in /usr/local/lib/python3.7/dist-packages (from markdown>=2.6.8->tensorboard~=2.5->tensorflow>=2.5.0rc0->tflite-model-maker-nightly) (4.0.1)\n",
            "Requirement already satisfied: requests-oauthlib>=0.7.0 in /usr/local/lib/python3.7/dist-packages (from google-auth-oauthlib<0.5,>=0.4.1->tensorboard~=2.5->tensorflow>=2.5.0rc0->tflite-model-maker-nightly) (1.3.0)\n",
            "Requirement already satisfied: pyasn1-modules>=0.2.1 in /usr/local/lib/python3.7/dist-packages (from google-auth<2,>=1.6.3->tensorboard~=2.5->tensorflow>=2.5.0rc0->tflite-model-maker-nightly) (0.2.8)\n",
            "Requirement already satisfied: rsa<5,>=3.1.4; python_version >= \"3.6\" in /usr/local/lib/python3.7/dist-packages (from google-auth<2,>=1.6.3->tensorboard~=2.5->tensorflow>=2.5.0rc0->tflite-model-maker-nightly) (4.7.2)\n",
            "Requirement already satisfied: cachetools<5.0,>=2.0.0 in /usr/local/lib/python3.7/dist-packages (from google-auth<2,>=1.6.3->tensorboard~=2.5->tensorflow>=2.5.0rc0->tflite-model-maker-nightly) (4.2.2)\n",
            "Requirement already satisfied: text-unidecode>=1.3 in /usr/local/lib/python3.7/dist-packages (from python-slugify->kaggle>=1.3.9->tf-models-official==2.3.0->tflite-model-maker-nightly) (1.3)\n",
            "Requirement already satisfied: pycparser in /usr/local/lib/python3.7/dist-packages (from cffi>=1.0->soundfile>=0.9.0->librosa>=0.5->tflite-model-maker-nightly) (2.20)\n",
            "Requirement already satisfied: oauthlib>=3.0.0 in /usr/local/lib/python3.7/dist-packages (from requests-oauthlib>=0.7.0->google-auth-oauthlib<0.5,>=0.4.1->tensorboard~=2.5->tensorflow>=2.5.0rc0->tflite-model-maker-nightly) (3.1.0)\n",
            "Requirement already satisfied: pyasn1<0.5.0,>=0.4.6 in /usr/local/lib/python3.7/dist-packages (from pyasn1-modules>=0.2.1->google-auth<2,>=1.6.3->tensorboard~=2.5->tensorflow>=2.5.0rc0->tflite-model-maker-nightly) (0.4.8)\n",
            "Building wheels for collected packages: fire, py-cpuinfo\n",
            "  Building wheel for fire (setup.py) ... \u001b[?25l\u001b[?25hdone\n",
            "  Created wheel for fire: filename=fire-0.4.0-py2.py3-none-any.whl size=115928 sha256=13e5fe0bdbf69eb121a76c672c545ab35b5ff95567290297d5631d7ab34b3cf1\n",
            "  Stored in directory: /root/.cache/pip/wheels/af/19/30/1ea0cad502dcb4e66ed5a690279628c827aea38bbbab75d5ed\n",
            "  Building wheel for py-cpuinfo (setup.py) ... \u001b[?25l\u001b[?25hdone\n",
            "  Created wheel for py-cpuinfo: filename=py_cpuinfo-8.0.0-cp37-none-any.whl size=22245 sha256=9d2496b64ab2310980cc93354e0c804ff6f0bff6aebb447d4721f6c19fe2b427\n",
            "  Stored in directory: /root/.cache/pip/wheels/2e/15/f5/aa2a056d223903b52cf4870134e3a01df0c723816835dd08db\n",
            "Successfully built fire py-cpuinfo\n",
            "Installing collected packages: tfa-nightly, sentencepiece, tf-hub-nightly, tensorflow-model-optimization, pybind11, tflite-support-nightly, PyYAML, opencv-python-headless, dataclasses, py-cpuinfo, tensorflow-addons, tf-slim, tf-models-official, lxml, fire, neural-structured-learning, tflite-model-maker-nightly\n",
            "  Found existing installation: PyYAML 3.13\n",
            "    Uninstalling PyYAML-3.13:\n",
            "      Successfully uninstalled PyYAML-3.13\n",
            "  Found existing installation: lxml 4.2.6\n",
            "    Uninstalling lxml-4.2.6:\n",
            "      Successfully uninstalled lxml-4.2.6\n",
            "Successfully installed PyYAML-5.4.1 dataclasses-0.6 fire-0.4.0 lxml-4.6.3 neural-structured-learning-1.3.1 opencv-python-headless-4.5.2.52 py-cpuinfo-8.0.0 pybind11-2.6.2 sentencepiece-0.1.95 tensorflow-addons-0.13.0 tensorflow-model-optimization-0.5.0 tf-hub-nightly-0.13.0.dev202106010007 tf-models-official-2.3.0 tf-slim-1.1.0 tfa-nightly-0.14.0.dev20210529132209 tflite-model-maker-nightly-0.3.3.dev202105312255 tflite-support-nightly-0.1.0.dev20210531\n"
          ],
          "name": "stdout"
        }
      ]
    },
    {
      "cell_type": "markdown",
      "metadata": {
        "id": "Gx1HGRoFQ54j"
      },
      "source": [
        "Import the required packages."
      ]
    },
    {
      "cell_type": "code",
      "metadata": {
        "id": "XtxiUeZEiXpt"
      },
      "source": [
        "import numpy as np\n",
        "\n",
        "import tensorflow as tf\n",
        "assert tf.__version__.startswith('2')\n",
        "\n",
        "from tflite_model_maker import model_spec\n",
        "from tflite_model_maker import image_classifier\n",
        "from tflite_model_maker.image_classifier import DataLoader"
      ],
      "execution_count": 3,
      "outputs": []
    },
    {
      "cell_type": "markdown",
      "metadata": {
        "id": "KKRaYHABpob5"
      },
      "source": [
        "## Simple End-to-End Example"
      ]
    },
    {
      "cell_type": "markdown",
      "metadata": {
        "id": "SiZZ5DHXotaW"
      },
      "source": [
        "### Get the data path"
      ]
    },
    {
      "cell_type": "code",
      "metadata": {
        "colab": {
          "base_uri": "https://localhost:8080/",
          "height": 35
        },
        "id": "EDfO5m2pZIoA",
        "outputId": "577fc854-7ef3-4d33-8109-4b3f4d05d73c"
      },
      "source": [
        "import os\n",
        "os.getcwd()"
      ],
      "execution_count": 4,
      "outputs": [
        {
          "output_type": "execute_result",
          "data": {
            "application/vnd.google.colaboratory.intrinsic+json": {
              "type": "string"
            },
            "text/plain": [
              "'/content'"
            ]
          },
          "metadata": {
            "tags": []
          },
          "execution_count": 4
        }
      ]
    },
    {
      "cell_type": "code",
      "metadata": {
        "cellView": "form",
        "id": "3jz5x0JoskPv"
      },
      "source": [
        "import shutil\n",
        "shutil.unpack_archive(\"fashionimgs.zip\")\n",
        "image_path = os.path.join(os.path.dirname('fashionimgs.zip'), 'fashionimgs')"
      ],
      "execution_count": 5,
      "outputs": []
    },
    {
      "cell_type": "markdown",
      "metadata": {
        "id": "w-VDriAdsowu"
      },
      "source": [
        "### Run the example\n",
        "The example just consists of 4 lines of code as shown below, each of which representing one step of the overall process.\n"
      ]
    },
    {
      "cell_type": "markdown",
      "metadata": {
        "id": "6ahtcO86tZBL"
      },
      "source": [
        "1.   Load input data specific to an on-device ML app. Split it to training data and testing data."
      ]
    },
    {
      "cell_type": "code",
      "metadata": {
        "id": "lANoNS_gtdH1",
        "colab": {
          "base_uri": "https://localhost:8080/"
        },
        "outputId": "ee57ae29-5b22-430f-ef0a-56c1ae0c453a"
      },
      "source": [
        "data = DataLoader.from_folder(image_path)\n",
        "#90/5/5 split\n",
        "train_data, rest_data = data.split(0.9)\n",
        "validationdata, test_data = rest_data.split(0.5)"
      ],
      "execution_count": 6,
      "outputs": [
        {
          "output_type": "stream",
          "text": [
            "INFO:tensorflow:Load image with size: 2560, num_label: 13, labels: 30, 35, 40, 45, 50, 55, 60, 65, 70, 75, 80, 85, 90.\n"
          ],
          "name": "stdout"
        }
      ]
    },
    {
      "cell_type": "markdown",
      "metadata": {
        "id": "Y_9IWyIztuRF"
      },
      "source": [
        "2. Customize the TensorFlow model."
      ]
    },
    {
      "cell_type": "code",
      "metadata": {
        "id": "95sBrfmCd_Fn"
      },
      "source": [
        "#define hyperparameters\n",
        "epoch = 15\n",
        "dropout = [0, 0.2, 0.3]"
      ],
      "execution_count": 9,
      "outputs": []
    },
    {
      "cell_type": "code",
      "metadata": {
        "id": "yRXMZbrwtyRD",
        "colab": {
          "base_uri": "https://localhost:8080/"
        },
        "outputId": "99c0b7f9-c684-427c-d17a-f5b1cbf0665a"
      },
      "source": [
        "for i in dropout:\n",
        "  print(i)\n",
        "  model = image_classifier.create(train_data, model_spec=model_spec.get('efficientnet_lite4'), epochs=epoch, dropout_rate=i, validation_data=validationdata, shuffle=True)\n",
        "  loss, accuracy = model.evaluate(test_data)\n",
        "  print('#########################')"
      ],
      "execution_count": 10,
      "outputs": [
        {
          "output_type": "stream",
          "text": [
            "0\n",
            "INFO:tensorflow:Retraining the models...\n"
          ],
          "name": "stdout"
        },
        {
          "output_type": "stream",
          "text": [
            "INFO:tensorflow:Retraining the models...\n"
          ],
          "name": "stderr"
        },
        {
          "output_type": "stream",
          "text": [
            "WARNING:tensorflow:Please add `keras.layers.InputLayer` instead of `keras.Input` to Sequential model. `keras.Input` is intended to be used by Functional model.\n"
          ],
          "name": "stdout"
        },
        {
          "output_type": "stream",
          "text": [
            "WARNING:tensorflow:Please add `keras.layers.InputLayer` instead of `keras.Input` to Sequential model. `keras.Input` is intended to be used by Functional model.\n"
          ],
          "name": "stderr"
        },
        {
          "output_type": "stream",
          "text": [
            "Model: \"sequential_1\"\n",
            "_________________________________________________________________\n",
            "Layer (type)                 Output Shape              Param #   \n",
            "=================================================================\n",
            "hub_keras_layer_v1v2_1 (HubK (None, 1280)              11837936  \n",
            "_________________________________________________________________\n",
            "dropout_1 (Dropout)          (None, 1280)              0         \n",
            "_________________________________________________________________\n",
            "dense_1 (Dense)              (None, 13)                16653     \n",
            "=================================================================\n",
            "Total params: 11,854,589\n",
            "Trainable params: 16,653\n",
            "Non-trainable params: 11,837,936\n",
            "_________________________________________________________________\n",
            "None\n"
          ],
          "name": "stdout"
        },
        {
          "output_type": "stream",
          "text": [
            "/usr/local/lib/python3.7/dist-packages/tensorflow/python/keras/optimizer_v2/optimizer_v2.py:375: UserWarning: The `lr` argument is deprecated, use `learning_rate` instead.\n",
            "  \"The `lr` argument is deprecated, use `learning_rate` instead.\")\n"
          ],
          "name": "stderr"
        },
        {
          "output_type": "stream",
          "text": [
            "Epoch 1/15\n",
            "72/72 [==============================] - 19s 212ms/step - loss: 2.2116 - accuracy: 0.2973 - val_loss: 1.9923 - val_accuracy: 0.3516\n",
            "Epoch 2/15\n",
            "72/72 [==============================] - 15s 207ms/step - loss: 1.8723 - accuracy: 0.4132 - val_loss: 1.9001 - val_accuracy: 0.3984\n",
            "Epoch 3/15\n",
            "72/72 [==============================] - 15s 207ms/step - loss: 1.7939 - accuracy: 0.4523 - val_loss: 1.8667 - val_accuracy: 0.4062\n",
            "Epoch 4/15\n",
            "72/72 [==============================] - 15s 205ms/step - loss: 1.7529 - accuracy: 0.4683 - val_loss: 1.8612 - val_accuracy: 0.3906\n",
            "Epoch 5/15\n",
            "72/72 [==============================] - 16s 218ms/step - loss: 1.7203 - accuracy: 0.4891 - val_loss: 1.8355 - val_accuracy: 0.3984\n",
            "Epoch 6/15\n",
            "72/72 [==============================] - 15s 203ms/step - loss: 1.6834 - accuracy: 0.5087 - val_loss: 1.8286 - val_accuracy: 0.3828\n",
            "Epoch 7/15\n",
            "72/72 [==============================] - 15s 204ms/step - loss: 1.6614 - accuracy: 0.5148 - val_loss: 1.8071 - val_accuracy: 0.4297\n",
            "Epoch 8/15\n",
            "72/72 [==============================] - 15s 206ms/step - loss: 1.6377 - accuracy: 0.5260 - val_loss: 1.8131 - val_accuracy: 0.3906\n",
            "Epoch 9/15\n",
            "72/72 [==============================] - 15s 204ms/step - loss: 1.6188 - accuracy: 0.5408 - val_loss: 1.8067 - val_accuracy: 0.4297\n",
            "Epoch 10/15\n",
            "72/72 [==============================] - 15s 204ms/step - loss: 1.6001 - accuracy: 0.5430 - val_loss: 1.7992 - val_accuracy: 0.4297\n",
            "Epoch 11/15\n",
            "72/72 [==============================] - 15s 203ms/step - loss: 1.5823 - accuracy: 0.5577 - val_loss: 1.7969 - val_accuracy: 0.4219\n",
            "Epoch 12/15\n",
            "72/72 [==============================] - 15s 205ms/step - loss: 1.5709 - accuracy: 0.5647 - val_loss: 1.7937 - val_accuracy: 0.4375\n",
            "Epoch 13/15\n",
            "72/72 [==============================] - 15s 204ms/step - loss: 1.5553 - accuracy: 0.5694 - val_loss: 1.7915 - val_accuracy: 0.4609\n",
            "Epoch 14/15\n",
            "72/72 [==============================] - 15s 203ms/step - loss: 1.5447 - accuracy: 0.5855 - val_loss: 1.7958 - val_accuracy: 0.3984\n",
            "Epoch 15/15\n",
            "72/72 [==============================] - 15s 205ms/step - loss: 1.5336 - accuracy: 0.5877 - val_loss: 1.8014 - val_accuracy: 0.4141\n",
            "4/4 [==============================] - 2s 173ms/step - loss: 1.8028 - accuracy: 0.4297\n",
            "#########################\n",
            "0.2\n",
            "INFO:tensorflow:Retraining the models...\n"
          ],
          "name": "stdout"
        },
        {
          "output_type": "stream",
          "text": [
            "INFO:tensorflow:Retraining the models...\n"
          ],
          "name": "stderr"
        },
        {
          "output_type": "stream",
          "text": [
            "WARNING:tensorflow:Please add `keras.layers.InputLayer` instead of `keras.Input` to Sequential model. `keras.Input` is intended to be used by Functional model.\n"
          ],
          "name": "stdout"
        },
        {
          "output_type": "stream",
          "text": [
            "WARNING:tensorflow:Please add `keras.layers.InputLayer` instead of `keras.Input` to Sequential model. `keras.Input` is intended to be used by Functional model.\n"
          ],
          "name": "stderr"
        },
        {
          "output_type": "stream",
          "text": [
            "Model: \"sequential_2\"\n",
            "_________________________________________________________________\n",
            "Layer (type)                 Output Shape              Param #   \n",
            "=================================================================\n",
            "hub_keras_layer_v1v2_2 (HubK (None, 1280)              11837936  \n",
            "_________________________________________________________________\n",
            "dropout_2 (Dropout)          (None, 1280)              0         \n",
            "_________________________________________________________________\n",
            "dense_2 (Dense)              (None, 13)                16653     \n",
            "=================================================================\n",
            "Total params: 11,854,589\n",
            "Trainable params: 16,653\n",
            "Non-trainable params: 11,837,936\n",
            "_________________________________________________________________\n",
            "None\n",
            "Epoch 1/15\n",
            "72/72 [==============================] - 19s 213ms/step - loss: 2.2422 - accuracy: 0.2826 - val_loss: 1.9921 - val_accuracy: 0.3594\n",
            "Epoch 2/15\n",
            "72/72 [==============================] - 15s 207ms/step - loss: 1.9119 - accuracy: 0.4084 - val_loss: 1.8956 - val_accuracy: 0.3906\n",
            "Epoch 3/15\n",
            "72/72 [==============================] - 15s 207ms/step - loss: 1.8304 - accuracy: 0.4427 - val_loss: 1.8818 - val_accuracy: 0.4141\n",
            "Epoch 4/15\n",
            "72/72 [==============================] - 15s 204ms/step - loss: 1.7818 - accuracy: 0.4566 - val_loss: 1.8527 - val_accuracy: 0.4219\n",
            "Epoch 5/15\n",
            "72/72 [==============================] - 15s 204ms/step - loss: 1.7557 - accuracy: 0.4744 - val_loss: 1.8462 - val_accuracy: 0.4141\n",
            "Epoch 6/15\n",
            "72/72 [==============================] - 15s 202ms/step - loss: 1.7142 - accuracy: 0.4839 - val_loss: 1.8238 - val_accuracy: 0.4531\n",
            "Epoch 7/15\n",
            "72/72 [==============================] - 15s 205ms/step - loss: 1.7152 - accuracy: 0.4857 - val_loss: 1.8133 - val_accuracy: 0.4219\n",
            "Epoch 8/15\n",
            "72/72 [==============================] - 15s 204ms/step - loss: 1.6905 - accuracy: 0.5056 - val_loss: 1.8059 - val_accuracy: 0.4297\n",
            "Epoch 9/15\n",
            "72/72 [==============================] - 15s 204ms/step - loss: 1.6627 - accuracy: 0.5100 - val_loss: 1.8203 - val_accuracy: 0.4375\n",
            "Epoch 10/15\n",
            "72/72 [==============================] - 15s 205ms/step - loss: 1.6516 - accuracy: 0.5230 - val_loss: 1.8062 - val_accuracy: 0.4375\n",
            "Epoch 11/15\n",
            "72/72 [==============================] - 15s 203ms/step - loss: 1.6337 - accuracy: 0.5382 - val_loss: 1.7969 - val_accuracy: 0.4297\n",
            "Epoch 12/15\n",
            "72/72 [==============================] - 15s 204ms/step - loss: 1.6332 - accuracy: 0.5230 - val_loss: 1.8217 - val_accuracy: 0.4297\n",
            "Epoch 13/15\n",
            "72/72 [==============================] - 15s 204ms/step - loss: 1.6125 - accuracy: 0.5360 - val_loss: 1.8105 - val_accuracy: 0.4609\n",
            "Epoch 14/15\n",
            "72/72 [==============================] - 15s 206ms/step - loss: 1.6025 - accuracy: 0.5430 - val_loss: 1.8229 - val_accuracy: 0.4375\n",
            "Epoch 15/15\n",
            "72/72 [==============================] - 15s 204ms/step - loss: 1.5966 - accuracy: 0.5516 - val_loss: 1.8204 - val_accuracy: 0.4375\n",
            "4/4 [==============================] - 2s 174ms/step - loss: 1.8021 - accuracy: 0.4609\n",
            "#########################\n",
            "0.3\n",
            "INFO:tensorflow:Retraining the models...\n"
          ],
          "name": "stdout"
        },
        {
          "output_type": "stream",
          "text": [
            "INFO:tensorflow:Retraining the models...\n"
          ],
          "name": "stderr"
        },
        {
          "output_type": "stream",
          "text": [
            "WARNING:tensorflow:Please add `keras.layers.InputLayer` instead of `keras.Input` to Sequential model. `keras.Input` is intended to be used by Functional model.\n"
          ],
          "name": "stdout"
        },
        {
          "output_type": "stream",
          "text": [
            "WARNING:tensorflow:Please add `keras.layers.InputLayer` instead of `keras.Input` to Sequential model. `keras.Input` is intended to be used by Functional model.\n"
          ],
          "name": "stderr"
        },
        {
          "output_type": "stream",
          "text": [
            "Model: \"sequential_3\"\n",
            "_________________________________________________________________\n",
            "Layer (type)                 Output Shape              Param #   \n",
            "=================================================================\n",
            "hub_keras_layer_v1v2_3 (HubK (None, 1280)              11837936  \n",
            "_________________________________________________________________\n",
            "dropout_3 (Dropout)          (None, 1280)              0         \n",
            "_________________________________________________________________\n",
            "dense_3 (Dense)              (None, 13)                16653     \n",
            "=================================================================\n",
            "Total params: 11,854,589\n",
            "Trainable params: 16,653\n",
            "Non-trainable params: 11,837,936\n",
            "_________________________________________________________________\n",
            "None\n",
            "Epoch 1/15\n",
            "72/72 [==============================] - 18s 213ms/step - loss: 2.2365 - accuracy: 0.2882 - val_loss: 1.9531 - val_accuracy: 0.3828\n",
            "Epoch 2/15\n",
            "72/72 [==============================] - 15s 208ms/step - loss: 1.9179 - accuracy: 0.4045 - val_loss: 1.8935 - val_accuracy: 0.3984\n",
            "Epoch 3/15\n",
            "72/72 [==============================] - 15s 207ms/step - loss: 1.8459 - accuracy: 0.4301 - val_loss: 1.8810 - val_accuracy: 0.3906\n",
            "Epoch 4/15\n",
            "72/72 [==============================] - 15s 205ms/step - loss: 1.8001 - accuracy: 0.4544 - val_loss: 1.8598 - val_accuracy: 0.3750\n",
            "Epoch 5/15\n",
            "72/72 [==============================] - 15s 203ms/step - loss: 1.7785 - accuracy: 0.4523 - val_loss: 1.8453 - val_accuracy: 0.3984\n",
            "Epoch 6/15\n",
            "72/72 [==============================] - 15s 202ms/step - loss: 1.7521 - accuracy: 0.4744 - val_loss: 1.8244 - val_accuracy: 0.4062\n",
            "Epoch 7/15\n",
            "72/72 [==============================] - 15s 205ms/step - loss: 1.7395 - accuracy: 0.4822 - val_loss: 1.8369 - val_accuracy: 0.4062\n",
            "Epoch 8/15\n",
            "72/72 [==============================] - 15s 205ms/step - loss: 1.7009 - accuracy: 0.4922 - val_loss: 1.8443 - val_accuracy: 0.4062\n",
            "Epoch 9/15\n",
            "72/72 [==============================] - 15s 205ms/step - loss: 1.7042 - accuracy: 0.4826 - val_loss: 1.8144 - val_accuracy: 0.4062\n",
            "Epoch 10/15\n",
            "72/72 [==============================] - 15s 203ms/step - loss: 1.6753 - accuracy: 0.5074 - val_loss: 1.8149 - val_accuracy: 0.4141\n",
            "Epoch 11/15\n",
            "72/72 [==============================] - 15s 204ms/step - loss: 1.6582 - accuracy: 0.5165 - val_loss: 1.8063 - val_accuracy: 0.4062\n",
            "Epoch 12/15\n",
            "72/72 [==============================] - 15s 204ms/step - loss: 1.6439 - accuracy: 0.5278 - val_loss: 1.8154 - val_accuracy: 0.4062\n",
            "Epoch 13/15\n",
            "72/72 [==============================] - 15s 204ms/step - loss: 1.6357 - accuracy: 0.5204 - val_loss: 1.8090 - val_accuracy: 0.4219\n",
            "Epoch 14/15\n",
            "72/72 [==============================] - 15s 205ms/step - loss: 1.6237 - accuracy: 0.5369 - val_loss: 1.8129 - val_accuracy: 0.4062\n",
            "Epoch 15/15\n",
            "72/72 [==============================] - 15s 205ms/step - loss: 1.6171 - accuracy: 0.5404 - val_loss: 1.8298 - val_accuracy: 0.4531\n",
            "4/4 [==============================] - 2s 176ms/step - loss: 1.8264 - accuracy: 0.4297\n",
            "#########################\n"
          ],
          "name": "stdout"
        }
      ]
    },
    {
      "cell_type": "markdown",
      "metadata": {
        "id": "oxU2fDr-t2Ya"
      },
      "source": [
        "3. Evaluate the model."
      ]
    },
    {
      "cell_type": "code",
      "metadata": {
        "id": "wQr02VxJt6Cs",
        "colab": {
          "base_uri": "https://localhost:8080/"
        },
        "outputId": "c3385827-16a7-4780-831d-b342991cbbf2"
      },
      "source": [
        "loss, accuracy = model.evaluate(test_data)"
      ],
      "execution_count": null,
      "outputs": [
        {
          "output_type": "stream",
          "text": [
            "1/1 [==============================] - 1s 639ms/step - loss: 2.1045 - accuracy: 0.3333\n"
          ],
          "name": "stdout"
        }
      ]
    },
    {
      "cell_type": "markdown",
      "metadata": {
        "id": "eVZw9zU8t84y"
      },
      "source": [
        "4.  Export to TensorFlow Lite model.\n",
        "You could download it in the left sidebar same as the uploading part for your own use."
      ]
    },
    {
      "cell_type": "code",
      "metadata": {
        "id": "Zb-eIzfluCoa"
      },
      "source": [
        "model.export(export_dir='.', with_metadata=False)"
      ],
      "execution_count": null,
      "outputs": []
    },
    {
      "cell_type": "markdown",
      "metadata": {
        "id": "pyju1qc_v-wy"
      },
      "source": [
        "After this simple 4 steps, we can now download the model and label files, and continue to the next step in the [codelab](https://codelabs.developers.google.com/codelabs/recognize-flowers-with-tensorflow-on-android/#4).\n",
        "\n",
        "For a more comprehensive guide to TFLite Model Maker, please refer to this [notebook](https://colab.sandbox.google.com/github/tensorflow/examples/blob/master/tensorflow_examples/lite/model_maker/demo/image_classification.ipynb) and its [documentation](https://github.com/tensorflow/examples/tree/master/tensorflow_examples/lite/model_maker).\n"
      ]
    }
  ]
}