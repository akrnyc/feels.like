{
  "nbformat": 4,
  "nbformat_minor": 0,
  "metadata": {
    "accelerator": "GPU",
    "colab": {
      "name": "feelslike_TFModeltest.ipynb",
      "provenance": [],
      "collapsed_sections": [],
      "toc_visible": true
    },
    "kernelspec": {
      "display_name": "Python 3",
      "name": "python3"
    }
  },
  "cells": [
    {
      "cell_type": "markdown",
      "metadata": {
        "id": "h2q27gKz1H20"
      },
      "source": [
        "##### Copyright 2020 The TensorFlow Authors."
      ]
    },
    {
      "cell_type": "code",
      "metadata": {
        "cellView": "form",
        "id": "TUfAcER1oUS6"
      },
      "source": [
        "#@title Licensed under the Apache License, Version 2.0 (the \"License\");\n",
        "# you may not use this file except in compliance with the License.\n",
        "# You may obtain a copy of the License at\n",
        "#\n",
        "# https://www.apache.org/licenses/LICENSE-2.0\n",
        "#\n",
        "# Unless required by applicable law or agreed to in writing, software\n",
        "# distributed under the License is distributed on an \"AS IS\" BASIS,\n",
        "# WITHOUT WARRANTIES OR CONDITIONS OF ANY KIND, either express or implied.\n",
        "# See the License for the specific language governing permissions and\n",
        "# limitations under the License."
      ],
      "execution_count": 1,
      "outputs": []
    },
    {
      "cell_type": "markdown",
      "metadata": {
        "id": "Gb7qyhNL1yWt"
      },
      "source": [
        "# feels.like with TensorFlow Lite Model Maker with TensorFlow 2.0"
      ]
    },
    {
      "cell_type": "markdown",
      "metadata": {
        "id": "nDABAblytltI"
      },
      "source": [
        "<table class=\"tfo-notebook-buttons\" align=\"left\">\n",
        "  <td>\n",
        "    <a target=\"_blank\" href=\"https://colab.research.google.com/github/tensorflow/examples/blob/master/lite/codelabs/flower_classification/ml/Flower_Classification_with_TFLite_Model_Maker.ipynb\">      \n",
        "    <img src=\"https://www.tensorflow.org/images/colab_logo_32px.png\" />\n",
        "    Run in Google Colab</a>\n",
        "  </td>\n",
        "  <td>\n",
        "    <a target=\"_blank\" href=\"https://github.com/tensorflow/examples/blob/master/lite/codelabs/flower_classification/ml/Flower_Classification_with_TFLite_Model_Maker.ipynb\">\n",
        "    <img src=\"https://www.tensorflow.org/images/GitHub-Mark-32px.png\" />\n",
        "    View source on GitHub</a>\n",
        "  </td>\n",
        "</table>"
      ]
    },
    {
      "cell_type": "markdown",
      "metadata": {
        "id": "m86-Nh4pMHqY"
      },
      "source": [
        "Model Maker library simplifies the process of adapting and converting a TensorFlow neural-network model to particular input data when deploying this model for on-device ML applications.\n",
        "\n",
        "This notebook shows an end-to-end example that utilizes this Model Maker library to illustrate the adaption and conversion of a commonly-used image classification model to classify flowers on a mobile device."
      ]
    },
    {
      "cell_type": "markdown",
      "metadata": {
        "id": "A8fYEdT7SMBx"
      },
      "source": [
        "# Additional Data Sources\n",
        "\n",
        "DeepFashion (http://mmlab.ie.cuhk.edu.hk/projects/DeepFashion.html)\n",
        "\n",
        "@inproceedings{liuLQWTcvpr16DeepFashion,\n",
        " author = {Liu, Ziwei and Luo, Ping and Qiu, Shi and Wang, Xiaogang and Tang, Xiaoou},\n",
        " title = {DeepFashion: Powering Robust Clothes Recognition and Retrieval with Rich Annotations},\n",
        " booktitle = {Proceedings of IEEE Conference on Computer Vision and Pattern Recognition (CVPR)},\n",
        " month = {June},\n",
        " year = {2016} \n",
        " }"
      ]
    },
    {
      "cell_type": "markdown",
      "metadata": {
        "id": "bcLF2PKkSbV3"
      },
      "source": [
        "## Prerequisites\n",
        "\n",
        "To run this example, we first need to install serveral required packages, including Model Maker package that in github [repo](https://github.com/tensorflow/examples/tree/master/tensorflow_examples/lite/model_maker)."
      ]
    },
    {
      "cell_type": "code",
      "metadata": {
        "id": "6cv3K3oaksJv",
        "colab": {
          "base_uri": "https://localhost:8080/"
        },
        "outputId": "6fc56bb9-39dc-4246-8017-bd90362e90a5"
      },
      "source": [
        "!pip install tflite-model-maker-nightly"
      ],
      "execution_count": 2,
      "outputs": [
        {
          "output_type": "stream",
          "text": [
            "Collecting tflite-model-maker-nightly\n",
            "\u001b[?25l  Downloading https://files.pythonhosted.org/packages/fd/c4/39899dc78d7215499fba5dc439d0ee200d954be2777fa07c2afac2f3f9bd/tflite_model_maker_nightly-0.3.3.dev202105302254-py3-none-any.whl (592kB)\n",
            "\u001b[K     |████████████████████████████████| 593kB 27.5MB/s \n",
            "\u001b[?25hCollecting PyYAML>=5.1\n",
            "\u001b[?25l  Downloading https://files.pythonhosted.org/packages/7a/a5/393c087efdc78091afa2af9f1378762f9821c9c1d7a22c5753fb5ac5f97a/PyYAML-5.4.1-cp37-cp37m-manylinux1_x86_64.whl (636kB)\n",
            "\u001b[K     |████████████████████████████████| 645kB 45.9MB/s \n",
            "\u001b[?25hRequirement already satisfied: matplotlib>=3.0.3 in /usr/local/lib/python3.7/dist-packages (from tflite-model-maker-nightly) (3.2.2)\n",
            "Collecting neural-structured-learning>=1.3.1\n",
            "\u001b[?25l  Downloading https://files.pythonhosted.org/packages/8a/23/179e6b7555000de51d9a317e9e47db84cda0180c941cfbf14775925af611/neural_structured_learning-1.3.1-py2.py3-none-any.whl (120kB)\n",
            "\u001b[K     |████████████████████████████████| 122kB 35.1MB/s \n",
            "\u001b[?25hRequirement already satisfied: librosa>=0.5 in /usr/local/lib/python3.7/dist-packages (from tflite-model-maker-nightly) (0.8.0)\n",
            "Collecting lxml>=4.6.1\n",
            "\u001b[?25l  Downloading https://files.pythonhosted.org/packages/30/c0/d0526314971fc661b083ab135747dc68446a3022686da8c16d25fcf6ef07/lxml-4.6.3-cp37-cp37m-manylinux2014_x86_64.whl (6.3MB)\n",
            "\u001b[K     |████████████████████████████████| 6.3MB 48.1MB/s \n",
            "\u001b[?25hRequirement already satisfied: Cython>=0.29.13 in /usr/local/lib/python3.7/dist-packages (from tflite-model-maker-nightly) (0.29.23)\n",
            "Requirement already satisfied: absl-py>=0.10.0 in /usr/local/lib/python3.7/dist-packages (from tflite-model-maker-nightly) (0.12.0)\n",
            "Requirement already satisfied: tensorflow-datasets>=2.1.0 in /usr/local/lib/python3.7/dist-packages (from tflite-model-maker-nightly) (4.0.1)\n",
            "Requirement already satisfied: six>=1.12.0 in /usr/local/lib/python3.7/dist-packages (from tflite-model-maker-nightly) (1.15.0)\n",
            "Collecting sentencepiece>=0.1.91\n",
            "\u001b[?25l  Downloading https://files.pythonhosted.org/packages/f5/99/e0808cb947ba10f575839c43e8fafc9cc44e4a7a2c8f79c60db48220a577/sentencepiece-0.1.95-cp37-cp37m-manylinux2014_x86_64.whl (1.2MB)\n",
            "\u001b[K     |████████████████████████████████| 1.2MB 38.9MB/s \n",
            "\u001b[?25hCollecting tflite-support-nightly\n",
            "\u001b[?25l  Downloading https://files.pythonhosted.org/packages/08/4c/295140412e3cb17ccc3beb60d74488d95197b1c1f0067d3cc02bd7350870/tflite_support_nightly-0.1.0.dev20210530-cp37-cp37m-manylinux_2_12_x86_64.manylinux2010_x86_64.whl (1.1MB)\n",
            "\u001b[K     |████████████████████████████████| 1.1MB 37.5MB/s \n",
            "\u001b[?25hCollecting tf-hub-nightly\n",
            "\u001b[?25l  Downloading https://files.pythonhosted.org/packages/ab/3b/d190c180ca844e129199137ffb7c9009bd41101534790baa8f4af767ee55/tf_hub_nightly-0.13.0.dev202105310008-py2.py3-none-any.whl (109kB)\n",
            "\u001b[K     |████████████████████████████████| 112kB 55.4MB/s \n",
            "\u001b[?25hCollecting tensorflow-model-optimization>=0.5\n",
            "\u001b[?25l  Downloading https://files.pythonhosted.org/packages/55/38/4fd48ea1bfcb0b6e36d949025200426fe9c3a8bfae029f0973d85518fa5a/tensorflow_model_optimization-0.5.0-py2.py3-none-any.whl (172kB)\n",
            "\u001b[K     |████████████████████████████████| 174kB 42.6MB/s \n",
            "\u001b[?25hRequirement already satisfied: urllib3!=1.25.0,!=1.25.1,<1.26,>=1.21.1 in /usr/local/lib/python3.7/dist-packages (from tflite-model-maker-nightly) (1.24.3)\n",
            "Collecting fire>=0.3.1\n",
            "\u001b[?25l  Downloading https://files.pythonhosted.org/packages/11/07/a119a1aa04d37bc819940d95ed7e135a7dcca1c098123a3764a6dcace9e7/fire-0.4.0.tar.gz (87kB)\n",
            "\u001b[K     |████████████████████████████████| 92kB 14.4MB/s \n",
            "\u001b[?25hCollecting tfa-nightly\n",
            "\u001b[?25l  Downloading https://files.pythonhosted.org/packages/4a/e1/d9891190084521480c0d0ebee18c5fba63c2247e74a3c93d50a09afb4d86/tfa_nightly-0.14.0.dev20210529132209-cp37-cp37m-manylinux2010_x86_64.whl (1.1MB)\n",
            "\u001b[K     |████████████████████████████████| 1.1MB 41.1MB/s \n",
            "\u001b[?25hRequirement already satisfied: tensorflow>=2.5.0rc0 in /usr/local/lib/python3.7/dist-packages (from tflite-model-maker-nightly) (2.5.0)\n",
            "Requirement already satisfied: pillow>=7.0.0 in /usr/local/lib/python3.7/dist-packages (from tflite-model-maker-nightly) (7.1.2)\n",
            "Requirement already satisfied: numpy>=1.17.3 in /usr/local/lib/python3.7/dist-packages (from tflite-model-maker-nightly) (1.19.5)\n",
            "Requirement already satisfied: flatbuffers==1.12 in /usr/local/lib/python3.7/dist-packages (from tflite-model-maker-nightly) (1.12)\n",
            "Collecting tf-models-official==2.3.0\n",
            "\u001b[?25l  Downloading https://files.pythonhosted.org/packages/5b/33/91e5e90e3e96292717245d3fe87eb3b35b07c8a2113f2da7f482040facdb/tf_models_official-2.3.0-py2.py3-none-any.whl (840kB)\n",
            "\u001b[K     |████████████████████████████████| 849kB 37.8MB/s \n",
            "\u001b[?25hRequirement already satisfied: cycler>=0.10 in /usr/local/lib/python3.7/dist-packages (from matplotlib>=3.0.3->tflite-model-maker-nightly) (0.10.0)\n",
            "Requirement already satisfied: pyparsing!=2.0.4,!=2.1.2,!=2.1.6,>=2.0.1 in /usr/local/lib/python3.7/dist-packages (from matplotlib>=3.0.3->tflite-model-maker-nightly) (2.4.7)\n",
            "Requirement already satisfied: kiwisolver>=1.0.1 in /usr/local/lib/python3.7/dist-packages (from matplotlib>=3.0.3->tflite-model-maker-nightly) (1.3.1)\n",
            "Requirement already satisfied: python-dateutil>=2.1 in /usr/local/lib/python3.7/dist-packages (from matplotlib>=3.0.3->tflite-model-maker-nightly) (2.8.1)\n",
            "Requirement already satisfied: scipy in /usr/local/lib/python3.7/dist-packages (from neural-structured-learning>=1.3.1->tflite-model-maker-nightly) (1.4.1)\n",
            "Requirement already satisfied: attrs in /usr/local/lib/python3.7/dist-packages (from neural-structured-learning>=1.3.1->tflite-model-maker-nightly) (21.2.0)\n",
            "Requirement already satisfied: numba>=0.43.0 in /usr/local/lib/python3.7/dist-packages (from librosa>=0.5->tflite-model-maker-nightly) (0.51.2)\n",
            "Requirement already satisfied: scikit-learn!=0.19.0,>=0.14.0 in /usr/local/lib/python3.7/dist-packages (from librosa>=0.5->tflite-model-maker-nightly) (0.22.2.post1)\n",
            "Requirement already satisfied: pooch>=1.0 in /usr/local/lib/python3.7/dist-packages (from librosa>=0.5->tflite-model-maker-nightly) (1.3.0)\n",
            "Requirement already satisfied: audioread>=2.0.0 in /usr/local/lib/python3.7/dist-packages (from librosa>=0.5->tflite-model-maker-nightly) (2.1.9)\n",
            "Requirement already satisfied: decorator>=3.0.0 in /usr/local/lib/python3.7/dist-packages (from librosa>=0.5->tflite-model-maker-nightly) (4.4.2)\n",
            "Requirement already satisfied: soundfile>=0.9.0 in /usr/local/lib/python3.7/dist-packages (from librosa>=0.5->tflite-model-maker-nightly) (0.10.3.post1)\n",
            "Requirement already satisfied: joblib>=0.14 in /usr/local/lib/python3.7/dist-packages (from librosa>=0.5->tflite-model-maker-nightly) (1.0.1)\n",
            "Requirement already satisfied: resampy>=0.2.2 in /usr/local/lib/python3.7/dist-packages (from librosa>=0.5->tflite-model-maker-nightly) (0.2.2)\n",
            "Requirement already satisfied: promise in /usr/local/lib/python3.7/dist-packages (from tensorflow-datasets>=2.1.0->tflite-model-maker-nightly) (2.3)\n",
            "Requirement already satisfied: future in /usr/local/lib/python3.7/dist-packages (from tensorflow-datasets>=2.1.0->tflite-model-maker-nightly) (0.16.0)\n",
            "Requirement already satisfied: importlib-resources; python_version < \"3.9\" in /usr/local/lib/python3.7/dist-packages (from tensorflow-datasets>=2.1.0->tflite-model-maker-nightly) (5.1.3)\n",
            "Requirement already satisfied: protobuf>=3.6.1 in /usr/local/lib/python3.7/dist-packages (from tensorflow-datasets>=2.1.0->tflite-model-maker-nightly) (3.12.4)\n",
            "Requirement already satisfied: dill in /usr/local/lib/python3.7/dist-packages (from tensorflow-datasets>=2.1.0->tflite-model-maker-nightly) (0.3.3)\n",
            "Requirement already satisfied: tqdm in /usr/local/lib/python3.7/dist-packages (from tensorflow-datasets>=2.1.0->tflite-model-maker-nightly) (4.41.1)\n",
            "Requirement already satisfied: dm-tree in /usr/local/lib/python3.7/dist-packages (from tensorflow-datasets>=2.1.0->tflite-model-maker-nightly) (0.1.6)\n",
            "Requirement already satisfied: tensorflow-metadata in /usr/local/lib/python3.7/dist-packages (from tensorflow-datasets>=2.1.0->tflite-model-maker-nightly) (1.0.0)\n",
            "Requirement already satisfied: termcolor in /usr/local/lib/python3.7/dist-packages (from tensorflow-datasets>=2.1.0->tflite-model-maker-nightly) (1.1.0)\n",
            "Requirement already satisfied: requests>=2.19.0 in /usr/local/lib/python3.7/dist-packages (from tensorflow-datasets>=2.1.0->tflite-model-maker-nightly) (2.23.0)\n",
            "Collecting pybind11>=2.6.0\n",
            "\u001b[?25l  Downloading https://files.pythonhosted.org/packages/8d/43/7339dbabbc2793718d59703aace4166f53c29ee1c202f6ff5bf8a26c4d91/pybind11-2.6.2-py2.py3-none-any.whl (191kB)\n",
            "\u001b[K     |████████████████████████████████| 194kB 59.7MB/s \n",
            "\u001b[?25hRequirement already satisfied: typeguard>=2.7 in /usr/local/lib/python3.7/dist-packages (from tfa-nightly->tflite-model-maker-nightly) (2.7.1)\n",
            "Requirement already satisfied: keras-preprocessing~=1.1.2 in /usr/local/lib/python3.7/dist-packages (from tensorflow>=2.5.0rc0->tflite-model-maker-nightly) (1.1.2)\n",
            "Requirement already satisfied: typing-extensions~=3.7.4 in /usr/local/lib/python3.7/dist-packages (from tensorflow>=2.5.0rc0->tflite-model-maker-nightly) (3.7.4.3)\n",
            "Requirement already satisfied: h5py~=3.1.0 in /usr/local/lib/python3.7/dist-packages (from tensorflow>=2.5.0rc0->tflite-model-maker-nightly) (3.1.0)\n",
            "Requirement already satisfied: tensorflow-estimator<2.6.0,>=2.5.0rc0 in /usr/local/lib/python3.7/dist-packages (from tensorflow>=2.5.0rc0->tflite-model-maker-nightly) (2.5.0)\n",
            "Requirement already satisfied: grpcio~=1.34.0 in /usr/local/lib/python3.7/dist-packages (from tensorflow>=2.5.0rc0->tflite-model-maker-nightly) (1.34.1)\n",
            "Requirement already satisfied: wrapt~=1.12.1 in /usr/local/lib/python3.7/dist-packages (from tensorflow>=2.5.0rc0->tflite-model-maker-nightly) (1.12.1)\n",
            "Requirement already satisfied: astunparse~=1.6.3 in /usr/local/lib/python3.7/dist-packages (from tensorflow>=2.5.0rc0->tflite-model-maker-nightly) (1.6.3)\n",
            "Requirement already satisfied: keras-nightly~=2.5.0.dev in /usr/local/lib/python3.7/dist-packages (from tensorflow>=2.5.0rc0->tflite-model-maker-nightly) (2.5.0.dev2021032900)\n",
            "Requirement already satisfied: google-pasta~=0.2 in /usr/local/lib/python3.7/dist-packages (from tensorflow>=2.5.0rc0->tflite-model-maker-nightly) (0.2.0)\n",
            "Requirement already satisfied: wheel~=0.35 in /usr/local/lib/python3.7/dist-packages (from tensorflow>=2.5.0rc0->tflite-model-maker-nightly) (0.36.2)\n",
            "Requirement already satisfied: tensorboard~=2.5 in /usr/local/lib/python3.7/dist-packages (from tensorflow>=2.5.0rc0->tflite-model-maker-nightly) (2.5.0)\n",
            "Requirement already satisfied: gast==0.4.0 in /usr/local/lib/python3.7/dist-packages (from tensorflow>=2.5.0rc0->tflite-model-maker-nightly) (0.4.0)\n",
            "Requirement already satisfied: opt-einsum~=3.3.0 in /usr/local/lib/python3.7/dist-packages (from tensorflow>=2.5.0rc0->tflite-model-maker-nightly) (3.3.0)\n",
            "Requirement already satisfied: tensorflow-hub>=0.6.0 in /usr/local/lib/python3.7/dist-packages (from tf-models-official==2.3.0->tflite-model-maker-nightly) (0.12.0)\n",
            "Collecting py-cpuinfo>=3.3.0\n",
            "\u001b[?25l  Downloading https://files.pythonhosted.org/packages/e6/ba/77120e44cbe9719152415b97d5bfb29f4053ee987d6cb63f55ce7d50fadc/py-cpuinfo-8.0.0.tar.gz (99kB)\n",
            "\u001b[K     |████████████████████████████████| 102kB 13.5MB/s \n",
            "\u001b[?25hRequirement already satisfied: gin-config in /usr/local/lib/python3.7/dist-packages (from tf-models-official==2.3.0->tflite-model-maker-nightly) (0.4.0)\n",
            "Requirement already satisfied: google-api-python-client>=1.6.7 in /usr/local/lib/python3.7/dist-packages (from tf-models-official==2.3.0->tflite-model-maker-nightly) (1.12.8)\n",
            "Collecting tf-slim>=1.1.0\n",
            "\u001b[?25l  Downloading https://files.pythonhosted.org/packages/02/97/b0f4a64df018ca018cc035d44f2ef08f91e2e8aa67271f6f19633a015ff7/tf_slim-1.1.0-py2.py3-none-any.whl (352kB)\n",
            "\u001b[K     |████████████████████████████████| 358kB 56.1MB/s \n",
            "\u001b[?25hRequirement already satisfied: kaggle>=1.3.9 in /usr/local/lib/python3.7/dist-packages (from tf-models-official==2.3.0->tflite-model-maker-nightly) (1.5.12)\n",
            "Requirement already satisfied: google-cloud-bigquery>=0.31.0 in /usr/local/lib/python3.7/dist-packages (from tf-models-official==2.3.0->tflite-model-maker-nightly) (1.21.0)\n",
            "Collecting dataclasses\n",
            "  Downloading https://files.pythonhosted.org/packages/26/2f/1095cdc2868052dd1e64520f7c0d5c8c550ad297e944e641dbf1ffbb9a5d/dataclasses-0.6-py3-none-any.whl\n",
            "Collecting tensorflow-addons\n",
            "\u001b[?25l  Downloading https://files.pythonhosted.org/packages/66/4b/e893d194e626c24b3df2253066aa418f46a432fdb68250cde14bf9bb0700/tensorflow_addons-0.13.0-cp37-cp37m-manylinux2010_x86_64.whl (679kB)\n",
            "\u001b[K     |████████████████████████████████| 686kB 56.8MB/s \n",
            "\u001b[?25hRequirement already satisfied: psutil>=5.4.3 in /usr/local/lib/python3.7/dist-packages (from tf-models-official==2.3.0->tflite-model-maker-nightly) (5.4.8)\n",
            "Collecting opencv-python-headless\n",
            "\u001b[?25l  Downloading https://files.pythonhosted.org/packages/c8/84/72ec52fbac4775c2a5bf0ee5573c922a0cac35eb841907edf56493a5e313/opencv_python_headless-4.5.2.52-cp37-cp37m-manylinux2014_x86_64.whl (38.2MB)\n",
            "\u001b[K     |████████████████████████████████| 38.2MB 65kB/s \n",
            "\u001b[?25hRequirement already satisfied: pandas>=0.22.0 in /usr/local/lib/python3.7/dist-packages (from tf-models-official==2.3.0->tflite-model-maker-nightly) (1.1.5)\n",
            "Requirement already satisfied: setuptools in /usr/local/lib/python3.7/dist-packages (from numba>=0.43.0->librosa>=0.5->tflite-model-maker-nightly) (56.1.0)\n",
            "Requirement already satisfied: llvmlite<0.35,>=0.34.0.dev0 in /usr/local/lib/python3.7/dist-packages (from numba>=0.43.0->librosa>=0.5->tflite-model-maker-nightly) (0.34.0)\n",
            "Requirement already satisfied: packaging in /usr/local/lib/python3.7/dist-packages (from pooch>=1.0->librosa>=0.5->tflite-model-maker-nightly) (20.9)\n",
            "Requirement already satisfied: appdirs in /usr/local/lib/python3.7/dist-packages (from pooch>=1.0->librosa>=0.5->tflite-model-maker-nightly) (1.4.4)\n",
            "Requirement already satisfied: cffi>=1.0 in /usr/local/lib/python3.7/dist-packages (from soundfile>=0.9.0->librosa>=0.5->tflite-model-maker-nightly) (1.14.5)\n",
            "Requirement already satisfied: zipp>=0.4; python_version < \"3.8\" in /usr/local/lib/python3.7/dist-packages (from importlib-resources; python_version < \"3.9\"->tensorflow-datasets>=2.1.0->tflite-model-maker-nightly) (3.4.1)\n",
            "Requirement already satisfied: googleapis-common-protos<2,>=1.52.0 in /usr/local/lib/python3.7/dist-packages (from tensorflow-metadata->tensorflow-datasets>=2.1.0->tflite-model-maker-nightly) (1.53.0)\n",
            "Requirement already satisfied: chardet<4,>=3.0.2 in /usr/local/lib/python3.7/dist-packages (from requests>=2.19.0->tensorflow-datasets>=2.1.0->tflite-model-maker-nightly) (3.0.4)\n",
            "Requirement already satisfied: certifi>=2017.4.17 in /usr/local/lib/python3.7/dist-packages (from requests>=2.19.0->tensorflow-datasets>=2.1.0->tflite-model-maker-nightly) (2020.12.5)\n",
            "Requirement already satisfied: idna<3,>=2.5 in /usr/local/lib/python3.7/dist-packages (from requests>=2.19.0->tensorflow-datasets>=2.1.0->tflite-model-maker-nightly) (2.10)\n",
            "Requirement already satisfied: cached-property; python_version < \"3.8\" in /usr/local/lib/python3.7/dist-packages (from h5py~=3.1.0->tensorflow>=2.5.0rc0->tflite-model-maker-nightly) (1.5.2)\n",
            "Requirement already satisfied: tensorboard-plugin-wit>=1.6.0 in /usr/local/lib/python3.7/dist-packages (from tensorboard~=2.5->tensorflow>=2.5.0rc0->tflite-model-maker-nightly) (1.8.0)\n",
            "Requirement already satisfied: werkzeug>=0.11.15 in /usr/local/lib/python3.7/dist-packages (from tensorboard~=2.5->tensorflow>=2.5.0rc0->tflite-model-maker-nightly) (1.0.1)\n",
            "Requirement already satisfied: google-auth<2,>=1.6.3 in /usr/local/lib/python3.7/dist-packages (from tensorboard~=2.5->tensorflow>=2.5.0rc0->tflite-model-maker-nightly) (1.30.0)\n",
            "Requirement already satisfied: google-auth-oauthlib<0.5,>=0.4.1 in /usr/local/lib/python3.7/dist-packages (from tensorboard~=2.5->tensorflow>=2.5.0rc0->tflite-model-maker-nightly) (0.4.4)\n",
            "Requirement already satisfied: markdown>=2.6.8 in /usr/local/lib/python3.7/dist-packages (from tensorboard~=2.5->tensorflow>=2.5.0rc0->tflite-model-maker-nightly) (3.3.4)\n",
            "Requirement already satisfied: tensorboard-data-server<0.7.0,>=0.6.0 in /usr/local/lib/python3.7/dist-packages (from tensorboard~=2.5->tensorflow>=2.5.0rc0->tflite-model-maker-nightly) (0.6.1)\n",
            "Requirement already satisfied: httplib2<1dev,>=0.15.0 in /usr/local/lib/python3.7/dist-packages (from google-api-python-client>=1.6.7->tf-models-official==2.3.0->tflite-model-maker-nightly) (0.17.4)\n",
            "Requirement already satisfied: google-api-core<2dev,>=1.21.0 in /usr/local/lib/python3.7/dist-packages (from google-api-python-client>=1.6.7->tf-models-official==2.3.0->tflite-model-maker-nightly) (1.26.3)\n",
            "Requirement already satisfied: uritemplate<4dev,>=3.0.0 in /usr/local/lib/python3.7/dist-packages (from google-api-python-client>=1.6.7->tf-models-official==2.3.0->tflite-model-maker-nightly) (3.0.1)\n",
            "Requirement already satisfied: google-auth-httplib2>=0.0.3 in /usr/local/lib/python3.7/dist-packages (from google-api-python-client>=1.6.7->tf-models-official==2.3.0->tflite-model-maker-nightly) (0.0.4)\n",
            "Requirement already satisfied: python-slugify in /usr/local/lib/python3.7/dist-packages (from kaggle>=1.3.9->tf-models-official==2.3.0->tflite-model-maker-nightly) (5.0.2)\n",
            "Requirement already satisfied: google-resumable-media!=0.4.0,<0.5.0dev,>=0.3.1 in /usr/local/lib/python3.7/dist-packages (from google-cloud-bigquery>=0.31.0->tf-models-official==2.3.0->tflite-model-maker-nightly) (0.4.1)\n",
            "Requirement already satisfied: google-cloud-core<2.0dev,>=1.0.3 in /usr/local/lib/python3.7/dist-packages (from google-cloud-bigquery>=0.31.0->tf-models-official==2.3.0->tflite-model-maker-nightly) (1.0.3)\n",
            "Requirement already satisfied: pytz>=2017.2 in /usr/local/lib/python3.7/dist-packages (from pandas>=0.22.0->tf-models-official==2.3.0->tflite-model-maker-nightly) (2018.9)\n",
            "Requirement already satisfied: pycparser in /usr/local/lib/python3.7/dist-packages (from cffi>=1.0->soundfile>=0.9.0->librosa>=0.5->tflite-model-maker-nightly) (2.20)\n",
            "Requirement already satisfied: cachetools<5.0,>=2.0.0 in /usr/local/lib/python3.7/dist-packages (from google-auth<2,>=1.6.3->tensorboard~=2.5->tensorflow>=2.5.0rc0->tflite-model-maker-nightly) (4.2.2)\n",
            "Requirement already satisfied: pyasn1-modules>=0.2.1 in /usr/local/lib/python3.7/dist-packages (from google-auth<2,>=1.6.3->tensorboard~=2.5->tensorflow>=2.5.0rc0->tflite-model-maker-nightly) (0.2.8)\n",
            "Requirement already satisfied: rsa<5,>=3.1.4; python_version >= \"3.6\" in /usr/local/lib/python3.7/dist-packages (from google-auth<2,>=1.6.3->tensorboard~=2.5->tensorflow>=2.5.0rc0->tflite-model-maker-nightly) (4.7.2)\n",
            "Requirement already satisfied: requests-oauthlib>=0.7.0 in /usr/local/lib/python3.7/dist-packages (from google-auth-oauthlib<0.5,>=0.4.1->tensorboard~=2.5->tensorflow>=2.5.0rc0->tflite-model-maker-nightly) (1.3.0)\n",
            "Requirement already satisfied: importlib-metadata; python_version < \"3.8\" in /usr/local/lib/python3.7/dist-packages (from markdown>=2.6.8->tensorboard~=2.5->tensorflow>=2.5.0rc0->tflite-model-maker-nightly) (4.0.1)\n",
            "Requirement already satisfied: text-unidecode>=1.3 in /usr/local/lib/python3.7/dist-packages (from python-slugify->kaggle>=1.3.9->tf-models-official==2.3.0->tflite-model-maker-nightly) (1.3)\n",
            "Requirement already satisfied: pyasn1<0.5.0,>=0.4.6 in /usr/local/lib/python3.7/dist-packages (from pyasn1-modules>=0.2.1->google-auth<2,>=1.6.3->tensorboard~=2.5->tensorflow>=2.5.0rc0->tflite-model-maker-nightly) (0.4.8)\n",
            "Requirement already satisfied: oauthlib>=3.0.0 in /usr/local/lib/python3.7/dist-packages (from requests-oauthlib>=0.7.0->google-auth-oauthlib<0.5,>=0.4.1->tensorboard~=2.5->tensorflow>=2.5.0rc0->tflite-model-maker-nightly) (3.1.0)\n",
            "Building wheels for collected packages: fire, py-cpuinfo\n",
            "  Building wheel for fire (setup.py) ... \u001b[?25l\u001b[?25hdone\n",
            "  Created wheel for fire: filename=fire-0.4.0-py2.py3-none-any.whl size=115928 sha256=b03052588e949b78c030333bec324b8e04191af5a47e84728535fd8ebbc1f585\n",
            "  Stored in directory: /root/.cache/pip/wheels/af/19/30/1ea0cad502dcb4e66ed5a690279628c827aea38bbbab75d5ed\n",
            "  Building wheel for py-cpuinfo (setup.py) ... \u001b[?25l\u001b[?25hdone\n",
            "  Created wheel for py-cpuinfo: filename=py_cpuinfo-8.0.0-cp37-none-any.whl size=22245 sha256=f74eef7512c4bf2741c0a95bd072a3ab81d2c1b99a4e363e5dc1745ee525161d\n",
            "  Stored in directory: /root/.cache/pip/wheels/2e/15/f5/aa2a056d223903b52cf4870134e3a01df0c723816835dd08db\n",
            "Successfully built fire py-cpuinfo\n",
            "Installing collected packages: PyYAML, neural-structured-learning, lxml, sentencepiece, pybind11, tflite-support-nightly, tf-hub-nightly, tensorflow-model-optimization, fire, tfa-nightly, py-cpuinfo, tf-slim, dataclasses, tensorflow-addons, opencv-python-headless, tf-models-official, tflite-model-maker-nightly\n",
            "  Found existing installation: PyYAML 3.13\n",
            "    Uninstalling PyYAML-3.13:\n",
            "      Successfully uninstalled PyYAML-3.13\n",
            "  Found existing installation: lxml 4.2.6\n",
            "    Uninstalling lxml-4.2.6:\n",
            "      Successfully uninstalled lxml-4.2.6\n",
            "Successfully installed PyYAML-5.4.1 dataclasses-0.6 fire-0.4.0 lxml-4.6.3 neural-structured-learning-1.3.1 opencv-python-headless-4.5.2.52 py-cpuinfo-8.0.0 pybind11-2.6.2 sentencepiece-0.1.95 tensorflow-addons-0.13.0 tensorflow-model-optimization-0.5.0 tf-hub-nightly-0.13.0.dev202105310008 tf-models-official-2.3.0 tf-slim-1.1.0 tfa-nightly-0.14.0.dev20210529132209 tflite-model-maker-nightly-0.3.3.dev202105302254 tflite-support-nightly-0.1.0.dev20210530\n"
          ],
          "name": "stdout"
        }
      ]
    },
    {
      "cell_type": "markdown",
      "metadata": {
        "id": "Gx1HGRoFQ54j"
      },
      "source": [
        "Import the required packages."
      ]
    },
    {
      "cell_type": "code",
      "metadata": {
        "id": "XtxiUeZEiXpt"
      },
      "source": [
        "import numpy as np\n",
        "\n",
        "import tensorflow as tf\n",
        "assert tf.__version__.startswith('2')\n",
        "\n",
        "from tflite_model_maker import model_spec\n",
        "from tflite_model_maker import image_classifier\n",
        "from tflite_model_maker.image_classifier import DataLoader"
      ],
      "execution_count": 3,
      "outputs": []
    },
    {
      "cell_type": "markdown",
      "metadata": {
        "id": "KKRaYHABpob5"
      },
      "source": [
        "## Simple End-to-End Example"
      ]
    },
    {
      "cell_type": "markdown",
      "metadata": {
        "id": "SiZZ5DHXotaW"
      },
      "source": [
        "### Get the data path"
      ]
    },
    {
      "cell_type": "code",
      "metadata": {
        "colab": {
          "base_uri": "https://localhost:8080/",
          "height": 35
        },
        "id": "EDfO5m2pZIoA",
        "outputId": "a60b55bb-3b96-41bd-c03a-c0b26923cb33"
      },
      "source": [
        "import os\n",
        "os.getcwd()"
      ],
      "execution_count": 4,
      "outputs": [
        {
          "output_type": "execute_result",
          "data": {
            "application/vnd.google.colaboratory.intrinsic+json": {
              "type": "string"
            },
            "text/plain": [
              "'/content'"
            ]
          },
          "metadata": {
            "tags": []
          },
          "execution_count": 4
        }
      ]
    },
    {
      "cell_type": "code",
      "metadata": {
        "cellView": "form",
        "id": "3jz5x0JoskPv"
      },
      "source": [
        "import shutil\n",
        "shutil.unpack_archive(\"fashionimgs.zip\")\n",
        "image_path = os.path.join(os.path.dirname('fashionimgs.zip'), 'fashionimgs')"
      ],
      "execution_count": 5,
      "outputs": []
    },
    {
      "cell_type": "markdown",
      "metadata": {
        "id": "w-VDriAdsowu"
      },
      "source": [
        "### Run the example\n",
        "The example just consists of 4 lines of code as shown below, each of which representing one step of the overall process.\n"
      ]
    },
    {
      "cell_type": "markdown",
      "metadata": {
        "id": "6ahtcO86tZBL"
      },
      "source": [
        "1.   Load input data specific to an on-device ML app. Split it to training data and testing data."
      ]
    },
    {
      "cell_type": "code",
      "metadata": {
        "id": "lANoNS_gtdH1",
        "colab": {
          "base_uri": "https://localhost:8080/"
        },
        "outputId": "0157f4e3-abf8-4a93-923f-188c7e74ff9b"
      },
      "source": [
        "data = DataLoader.from_folder(image_path)\n",
        "#90/5/5 split\n",
        "train_data, rest_data = data.split(0.9)\n",
        "validationdata, test_data = rest_data.split(0.5)"
      ],
      "execution_count": 6,
      "outputs": [
        {
          "output_type": "stream",
          "text": [
            "INFO:tensorflow:Load image with size: 2560, num_label: 13, labels: 30, 35, 40, 45, 50, 55, 60, 65, 70, 75, 80, 85, 90.\n"
          ],
          "name": "stdout"
        }
      ]
    },
    {
      "cell_type": "markdown",
      "metadata": {
        "id": "Y_9IWyIztuRF"
      },
      "source": [
        "2. Customize the TensorFlow model."
      ]
    },
    {
      "cell_type": "code",
      "metadata": {
        "id": "95sBrfmCd_Fn"
      },
      "source": [
        "#define hyperparameters\n",
        "epoch = 15\n",
        "dropout = 0.3\n",
        "\n",
        "#models for transfer learning compatible with TFLite image classification\n",
        "models = ['efficientnet_lite0','efficientnet_lite1','efficientnet_lite2','efficientnet_lite3','efficientnet_lite4','mobilenet_v2','resnet_50']"
      ],
      "execution_count": 7,
      "outputs": []
    },
    {
      "cell_type": "code",
      "metadata": {
        "id": "yRXMZbrwtyRD",
        "colab": {
          "base_uri": "https://localhost:8080/"
        },
        "outputId": "9ecd1cb4-8a70-42b7-aa10-d941871d7e8d"
      },
      "source": [
        "for i in models:\n",
        "  j = str(i)\n",
        "  print(j)\n",
        "  model = image_classifier.create(train_data, model_spec=model_spec.get(i), epochs=epoch, dropout_rate=dropout, validation_data=validationdata, shuffle=True)\n",
        "  loss, accuracy = model.evaluate(test_data)"
      ],
      "execution_count": 8,
      "outputs": [
        {
          "output_type": "stream",
          "text": [
            "efficientnet_lite0\n",
            "INFO:tensorflow:Retraining the models...\n",
            "WARNING:tensorflow:Please add `keras.layers.InputLayer` instead of `keras.Input` to Sequential model. `keras.Input` is intended to be used by Functional model.\n"
          ],
          "name": "stdout"
        },
        {
          "output_type": "stream",
          "text": [
            "WARNING:tensorflow:Please add `keras.layers.InputLayer` instead of `keras.Input` to Sequential model. `keras.Input` is intended to be used by Functional model.\n"
          ],
          "name": "stderr"
        },
        {
          "output_type": "stream",
          "text": [
            "Model: \"sequential\"\n",
            "_________________________________________________________________\n",
            "Layer (type)                 Output Shape              Param #   \n",
            "=================================================================\n",
            "hub_keras_layer_v1v2 (HubKer (None, 1280)              3413024   \n",
            "_________________________________________________________________\n",
            "dropout (Dropout)            (None, 1280)              0         \n",
            "_________________________________________________________________\n",
            "dense (Dense)                (None, 13)                16653     \n",
            "=================================================================\n",
            "Total params: 3,429,677\n",
            "Trainable params: 16,653\n",
            "Non-trainable params: 3,413,024\n",
            "_________________________________________________________________\n",
            "None\n",
            "Epoch 1/15\n"
          ],
          "name": "stdout"
        },
        {
          "output_type": "stream",
          "text": [
            "/usr/local/lib/python3.7/dist-packages/tensorflow/python/keras/optimizer_v2/optimizer_v2.py:375: UserWarning: The `lr` argument is deprecated, use `learning_rate` instead.\n",
            "  \"The `lr` argument is deprecated, use `learning_rate` instead.\")\n"
          ],
          "name": "stderr"
        },
        {
          "output_type": "stream",
          "text": [
            "72/72 [==============================] - 40s 114ms/step - loss: 2.2589 - accuracy: 0.2708 - val_loss: 1.8668 - val_accuracy: 0.4219\n",
            "Epoch 2/15\n",
            "72/72 [==============================] - 8s 106ms/step - loss: 1.9255 - accuracy: 0.3932 - val_loss: 1.8128 - val_accuracy: 0.4375\n",
            "Epoch 3/15\n",
            "72/72 [==============================] - 8s 109ms/step - loss: 1.8520 - accuracy: 0.4245 - val_loss: 1.8233 - val_accuracy: 0.4531\n",
            "Epoch 4/15\n",
            "72/72 [==============================] - 8s 112ms/step - loss: 1.7892 - accuracy: 0.4462 - val_loss: 1.7781 - val_accuracy: 0.4688\n",
            "Epoch 5/15\n",
            "72/72 [==============================] - 9s 119ms/step - loss: 1.7452 - accuracy: 0.4670 - val_loss: 1.7677 - val_accuracy: 0.5000\n",
            "Epoch 6/15\n",
            "72/72 [==============================] - 8s 110ms/step - loss: 1.7234 - accuracy: 0.4831 - val_loss: 1.7757 - val_accuracy: 0.4609\n",
            "Epoch 7/15\n",
            "72/72 [==============================] - 7s 94ms/step - loss: 1.6852 - accuracy: 0.5052 - val_loss: 1.7726 - val_accuracy: 0.4844\n",
            "Epoch 8/15\n",
            "72/72 [==============================] - 8s 112ms/step - loss: 1.6580 - accuracy: 0.5221 - val_loss: 1.7763 - val_accuracy: 0.5000\n",
            "Epoch 9/15\n",
            "72/72 [==============================] - 7s 103ms/step - loss: 1.6439 - accuracy: 0.5221 - val_loss: 1.7630 - val_accuracy: 0.5000\n",
            "Epoch 10/15\n",
            "72/72 [==============================] - 7s 104ms/step - loss: 1.6316 - accuracy: 0.5278 - val_loss: 1.7525 - val_accuracy: 0.5000\n",
            "Epoch 11/15\n",
            "72/72 [==============================] - 7s 101ms/step - loss: 1.6077 - accuracy: 0.5312 - val_loss: 1.7747 - val_accuracy: 0.4531\n",
            "Epoch 12/15\n",
            "72/72 [==============================] - 7s 104ms/step - loss: 1.6002 - accuracy: 0.5486 - val_loss: 1.7713 - val_accuracy: 0.4844\n",
            "Epoch 13/15\n",
            "72/72 [==============================] - 7s 102ms/step - loss: 1.5826 - accuracy: 0.5499 - val_loss: 1.7474 - val_accuracy: 0.4844\n",
            "Epoch 14/15\n",
            "72/72 [==============================] - 7s 104ms/step - loss: 1.5710 - accuracy: 0.5629 - val_loss: 1.7597 - val_accuracy: 0.4531\n",
            "Epoch 15/15\n",
            "72/72 [==============================] - 7s 94ms/step - loss: 1.5615 - accuracy: 0.5582 - val_loss: 1.7686 - val_accuracy: 0.4844\n",
            "4/4 [==============================] - 1s 83ms/step - loss: 1.9004 - accuracy: 0.3594\n",
            "efficientnet_lite1\n",
            "INFO:tensorflow:Retraining the models...\n"
          ],
          "name": "stdout"
        },
        {
          "output_type": "stream",
          "text": [
            "INFO:tensorflow:Retraining the models...\n"
          ],
          "name": "stderr"
        },
        {
          "output_type": "stream",
          "text": [
            "WARNING:tensorflow:Please add `keras.layers.InputLayer` instead of `keras.Input` to Sequential model. `keras.Input` is intended to be used by Functional model.\n"
          ],
          "name": "stdout"
        },
        {
          "output_type": "stream",
          "text": [
            "WARNING:tensorflow:Please add `keras.layers.InputLayer` instead of `keras.Input` to Sequential model. `keras.Input` is intended to be used by Functional model.\n"
          ],
          "name": "stderr"
        },
        {
          "output_type": "stream",
          "text": [
            "Model: \"sequential_1\"\n",
            "_________________________________________________________________\n",
            "Layer (type)                 Output Shape              Param #   \n",
            "=================================================================\n",
            "hub_keras_layer_v1v2_1 (HubK (None, 1280)              4189344   \n",
            "_________________________________________________________________\n",
            "dropout_1 (Dropout)          (None, 1280)              0         \n",
            "_________________________________________________________________\n",
            "dense_1 (Dense)              (None, 13)                16653     \n",
            "=================================================================\n",
            "Total params: 4,205,997\n",
            "Trainable params: 16,653\n",
            "Non-trainable params: 4,189,344\n",
            "_________________________________________________________________\n",
            "None\n",
            "Epoch 1/15\n",
            "72/72 [==============================] - 12s 125ms/step - loss: 2.3076 - accuracy: 0.2517 - val_loss: 1.9830 - val_accuracy: 0.4297\n",
            "Epoch 2/15\n",
            "72/72 [==============================] - 9s 119ms/step - loss: 1.9485 - accuracy: 0.3906 - val_loss: 1.8947 - val_accuracy: 0.4453\n",
            "Epoch 3/15\n",
            "72/72 [==============================] - 9s 121ms/step - loss: 1.8618 - accuracy: 0.4366 - val_loss: 1.8728 - val_accuracy: 0.4609\n",
            "Epoch 4/15\n",
            "72/72 [==============================] - 9s 124ms/step - loss: 1.8037 - accuracy: 0.4484 - val_loss: 1.8436 - val_accuracy: 0.4531\n",
            "Epoch 5/15\n",
            "72/72 [==============================] - 9s 130ms/step - loss: 1.7640 - accuracy: 0.4683 - val_loss: 1.8281 - val_accuracy: 0.4609\n",
            "Epoch 6/15\n",
            "72/72 [==============================] - 8s 111ms/step - loss: 1.7228 - accuracy: 0.4965 - val_loss: 1.8132 - val_accuracy: 0.4609\n",
            "Epoch 7/15\n",
            "72/72 [==============================] - 8s 111ms/step - loss: 1.7048 - accuracy: 0.4818 - val_loss: 1.8187 - val_accuracy: 0.4766\n",
            "Epoch 8/15\n",
            "72/72 [==============================] - 8s 111ms/step - loss: 1.6880 - accuracy: 0.5065 - val_loss: 1.8160 - val_accuracy: 0.4609\n",
            "Epoch 9/15\n",
            "72/72 [==============================] - 8s 111ms/step - loss: 1.6753 - accuracy: 0.4948 - val_loss: 1.8090 - val_accuracy: 0.4531\n",
            "Epoch 10/15\n",
            "72/72 [==============================] - 8s 111ms/step - loss: 1.6536 - accuracy: 0.5200 - val_loss: 1.8043 - val_accuracy: 0.4766\n",
            "Epoch 11/15\n",
            "72/72 [==============================] - 8s 112ms/step - loss: 1.6411 - accuracy: 0.5252 - val_loss: 1.8087 - val_accuracy: 0.4688\n",
            "Epoch 12/15\n",
            "72/72 [==============================] - 8s 113ms/step - loss: 1.6190 - accuracy: 0.5373 - val_loss: 1.7951 - val_accuracy: 0.4844\n",
            "Epoch 13/15\n",
            "72/72 [==============================] - 8s 111ms/step - loss: 1.6118 - accuracy: 0.5460 - val_loss: 1.7992 - val_accuracy: 0.4766\n",
            "Epoch 14/15\n",
            "72/72 [==============================] - 8s 111ms/step - loss: 1.5955 - accuracy: 0.5412 - val_loss: 1.8024 - val_accuracy: 0.4844\n",
            "Epoch 15/15\n",
            "72/72 [==============================] - 8s 111ms/step - loss: 1.5839 - accuracy: 0.5625 - val_loss: 1.7989 - val_accuracy: 0.4688\n",
            "4/4 [==============================] - 1s 88ms/step - loss: 1.8959 - accuracy: 0.3828\n",
            "efficientnet_lite2\n",
            "INFO:tensorflow:Retraining the models...\n"
          ],
          "name": "stdout"
        },
        {
          "output_type": "stream",
          "text": [
            "INFO:tensorflow:Retraining the models...\n"
          ],
          "name": "stderr"
        },
        {
          "output_type": "stream",
          "text": [
            "WARNING:tensorflow:Please add `keras.layers.InputLayer` instead of `keras.Input` to Sequential model. `keras.Input` is intended to be used by Functional model.\n"
          ],
          "name": "stdout"
        },
        {
          "output_type": "stream",
          "text": [
            "WARNING:tensorflow:Please add `keras.layers.InputLayer` instead of `keras.Input` to Sequential model. `keras.Input` is intended to be used by Functional model.\n"
          ],
          "name": "stderr"
        },
        {
          "output_type": "stream",
          "text": [
            "Model: \"sequential_2\"\n",
            "_________________________________________________________________\n",
            "Layer (type)                 Output Shape              Param #   \n",
            "=================================================================\n",
            "hub_keras_layer_v1v2_2 (HubK (None, 1280)              4869168   \n",
            "_________________________________________________________________\n",
            "dropout_2 (Dropout)          (None, 1280)              0         \n",
            "_________________________________________________________________\n",
            "dense_2 (Dense)              (None, 13)                16653     \n",
            "=================================================================\n",
            "Total params: 4,885,821\n",
            "Trainable params: 16,653\n",
            "Non-trainable params: 4,869,168\n",
            "_________________________________________________________________\n",
            "None\n",
            "Epoch 1/15\n",
            "72/72 [==============================] - 12s 127ms/step - loss: 2.2751 - accuracy: 0.2548 - val_loss: 1.9741 - val_accuracy: 0.4141\n",
            "Epoch 2/15\n",
            "72/72 [==============================] - 9s 120ms/step - loss: 1.9523 - accuracy: 0.3733 - val_loss: 1.8821 - val_accuracy: 0.4922\n",
            "Epoch 3/15\n",
            "72/72 [==============================] - 9s 123ms/step - loss: 1.8526 - accuracy: 0.4188 - val_loss: 1.8652 - val_accuracy: 0.4688\n",
            "Epoch 4/15\n",
            "72/72 [==============================] - 9s 128ms/step - loss: 1.8100 - accuracy: 0.4392 - val_loss: 1.8422 - val_accuracy: 0.4688\n",
            "Epoch 5/15\n",
            "72/72 [==============================] - 8s 118ms/step - loss: 1.7736 - accuracy: 0.4527 - val_loss: 1.8298 - val_accuracy: 0.4766\n",
            "Epoch 6/15\n",
            "72/72 [==============================] - 8s 118ms/step - loss: 1.7438 - accuracy: 0.4553 - val_loss: 1.8307 - val_accuracy: 0.4844\n",
            "Epoch 7/15\n",
            "72/72 [==============================] - 8s 118ms/step - loss: 1.7094 - accuracy: 0.4835 - val_loss: 1.8268 - val_accuracy: 0.4766\n",
            "Epoch 8/15\n",
            "72/72 [==============================] - 8s 118ms/step - loss: 1.7073 - accuracy: 0.4952 - val_loss: 1.8228 - val_accuracy: 0.4688\n",
            "Epoch 9/15\n",
            "72/72 [==============================] - 8s 118ms/step - loss: 1.6915 - accuracy: 0.4944 - val_loss: 1.8192 - val_accuracy: 0.4766\n",
            "Epoch 10/15\n",
            "72/72 [==============================] - 8s 118ms/step - loss: 1.6764 - accuracy: 0.4948 - val_loss: 1.8194 - val_accuracy: 0.4609\n",
            "Epoch 11/15\n",
            "72/72 [==============================] - 8s 118ms/step - loss: 1.6569 - accuracy: 0.5113 - val_loss: 1.8316 - val_accuracy: 0.4844\n",
            "Epoch 12/15\n",
            "72/72 [==============================] - 8s 117ms/step - loss: 1.6447 - accuracy: 0.5217 - val_loss: 1.8203 - val_accuracy: 0.5000\n",
            "Epoch 13/15\n",
            "72/72 [==============================] - 8s 118ms/step - loss: 1.6375 - accuracy: 0.5156 - val_loss: 1.8184 - val_accuracy: 0.4844\n",
            "Epoch 14/15\n",
            "72/72 [==============================] - 9s 129ms/step - loss: 1.6103 - accuracy: 0.5321 - val_loss: 1.8358 - val_accuracy: 0.4766\n",
            "Epoch 15/15\n",
            "72/72 [==============================] - 9s 119ms/step - loss: 1.6171 - accuracy: 0.5278 - val_loss: 1.8211 - val_accuracy: 0.5000\n",
            "4/4 [==============================] - 1s 97ms/step - loss: 1.8502 - accuracy: 0.3984\n",
            "efficientnet_lite3\n",
            "INFO:tensorflow:Retraining the models...\n"
          ],
          "name": "stdout"
        },
        {
          "output_type": "stream",
          "text": [
            "INFO:tensorflow:Retraining the models...\n"
          ],
          "name": "stderr"
        },
        {
          "output_type": "stream",
          "text": [
            "WARNING:tensorflow:Please add `keras.layers.InputLayer` instead of `keras.Input` to Sequential model. `keras.Input` is intended to be used by Functional model.\n"
          ],
          "name": "stdout"
        },
        {
          "output_type": "stream",
          "text": [
            "WARNING:tensorflow:Please add `keras.layers.InputLayer` instead of `keras.Input` to Sequential model. `keras.Input` is intended to be used by Functional model.\n"
          ],
          "name": "stderr"
        },
        {
          "output_type": "stream",
          "text": [
            "Model: \"sequential_3\"\n",
            "_________________________________________________________________\n",
            "Layer (type)                 Output Shape              Param #   \n",
            "=================================================================\n",
            "hub_keras_layer_v1v2_3 (HubK (None, 1280)              6992768   \n",
            "_________________________________________________________________\n",
            "dropout_3 (Dropout)          (None, 1280)              0         \n",
            "_________________________________________________________________\n",
            "dense_3 (Dense)              (None, 13)                16653     \n",
            "=================================================================\n",
            "Total params: 7,009,421\n",
            "Trainable params: 16,653\n",
            "Non-trainable params: 6,992,768\n",
            "_________________________________________________________________\n",
            "None\n",
            "Epoch 1/15\n",
            "72/72 [==============================] - 14s 148ms/step - loss: 2.2742 - accuracy: 0.2565 - val_loss: 1.9853 - val_accuracy: 0.3281\n",
            "Epoch 2/15\n",
            "72/72 [==============================] - 10s 142ms/step - loss: 1.9203 - accuracy: 0.3872 - val_loss: 1.8863 - val_accuracy: 0.4219\n",
            "Epoch 3/15\n",
            "72/72 [==============================] - 10s 143ms/step - loss: 1.8415 - accuracy: 0.4332 - val_loss: 1.8425 - val_accuracy: 0.4375\n",
            "Epoch 4/15\n",
            "72/72 [==============================] - 10s 144ms/step - loss: 1.7948 - accuracy: 0.4457 - val_loss: 1.8466 - val_accuracy: 0.4453\n",
            "Epoch 5/15\n",
            "72/72 [==============================] - 10s 141ms/step - loss: 1.7582 - accuracy: 0.4640 - val_loss: 1.7970 - val_accuracy: 0.4766\n",
            "Epoch 6/15\n",
            "72/72 [==============================] - 10s 141ms/step - loss: 1.7168 - accuracy: 0.4831 - val_loss: 1.8085 - val_accuracy: 0.4766\n",
            "Epoch 7/15\n",
            "72/72 [==============================] - 10s 141ms/step - loss: 1.6844 - accuracy: 0.4813 - val_loss: 1.8116 - val_accuracy: 0.4531\n",
            "Epoch 8/15\n",
            "72/72 [==============================] - 10s 141ms/step - loss: 1.6732 - accuracy: 0.5082 - val_loss: 1.7848 - val_accuracy: 0.4609\n",
            "Epoch 9/15\n",
            "72/72 [==============================] - 10s 140ms/step - loss: 1.6502 - accuracy: 0.5082 - val_loss: 1.7764 - val_accuracy: 0.4688\n",
            "Epoch 10/15\n",
            "72/72 [==============================] - 10s 142ms/step - loss: 1.6416 - accuracy: 0.5252 - val_loss: 1.7735 - val_accuracy: 0.4766\n",
            "Epoch 11/15\n",
            "72/72 [==============================] - 10s 142ms/step - loss: 1.6379 - accuracy: 0.5078 - val_loss: 1.7620 - val_accuracy: 0.4688\n",
            "Epoch 12/15\n",
            "72/72 [==============================] - 10s 142ms/step - loss: 1.6167 - accuracy: 0.5326 - val_loss: 1.7753 - val_accuracy: 0.4844\n",
            "Epoch 13/15\n",
            "72/72 [==============================] - 10s 141ms/step - loss: 1.5868 - accuracy: 0.5443 - val_loss: 1.7544 - val_accuracy: 0.4766\n",
            "Epoch 14/15\n",
            "72/72 [==============================] - 10s 143ms/step - loss: 1.5909 - accuracy: 0.5534 - val_loss: 1.7617 - val_accuracy: 0.4844\n",
            "Epoch 15/15\n",
            "72/72 [==============================] - 10s 141ms/step - loss: 1.5972 - accuracy: 0.5269 - val_loss: 1.7670 - val_accuracy: 0.4844\n",
            "4/4 [==============================] - 1s 117ms/step - loss: 1.8475 - accuracy: 0.3438\n",
            "efficientnet_lite4\n",
            "INFO:tensorflow:Retraining the models...\n"
          ],
          "name": "stdout"
        },
        {
          "output_type": "stream",
          "text": [
            "INFO:tensorflow:Retraining the models...\n"
          ],
          "name": "stderr"
        },
        {
          "output_type": "stream",
          "text": [
            "WARNING:tensorflow:Please add `keras.layers.InputLayer` instead of `keras.Input` to Sequential model. `keras.Input` is intended to be used by Functional model.\n"
          ],
          "name": "stdout"
        },
        {
          "output_type": "stream",
          "text": [
            "WARNING:tensorflow:Please add `keras.layers.InputLayer` instead of `keras.Input` to Sequential model. `keras.Input` is intended to be used by Functional model.\n"
          ],
          "name": "stderr"
        },
        {
          "output_type": "stream",
          "text": [
            "Model: \"sequential_4\"\n",
            "_________________________________________________________________\n",
            "Layer (type)                 Output Shape              Param #   \n",
            "=================================================================\n",
            "hub_keras_layer_v1v2_4 (HubK (None, 1280)              11837936  \n",
            "_________________________________________________________________\n",
            "dropout_4 (Dropout)          (None, 1280)              0         \n",
            "_________________________________________________________________\n",
            "dense_4 (Dense)              (None, 13)                16653     \n",
            "=================================================================\n",
            "Total params: 11,854,589\n",
            "Trainable params: 16,653\n",
            "Non-trainable params: 11,837,936\n",
            "_________________________________________________________________\n",
            "None\n",
            "Epoch 1/15\n",
            "72/72 [==============================] - 20s 211ms/step - loss: 2.2591 - accuracy: 0.2626 - val_loss: 1.9511 - val_accuracy: 0.4219\n",
            "Epoch 2/15\n",
            "72/72 [==============================] - 15s 203ms/step - loss: 1.9212 - accuracy: 0.3945 - val_loss: 1.8740 - val_accuracy: 0.4453\n",
            "Epoch 3/15\n",
            "72/72 [==============================] - 15s 202ms/step - loss: 1.8470 - accuracy: 0.4284 - val_loss: 1.8578 - val_accuracy: 0.4453\n",
            "Epoch 4/15\n",
            "72/72 [==============================] - 15s 203ms/step - loss: 1.8077 - accuracy: 0.4418 - val_loss: 1.8670 - val_accuracy: 0.4375\n",
            "Epoch 5/15\n",
            "72/72 [==============================] - 14s 201ms/step - loss: 1.7675 - accuracy: 0.4609 - val_loss: 1.8562 - val_accuracy: 0.4453\n",
            "Epoch 6/15\n",
            "72/72 [==============================] - 14s 201ms/step - loss: 1.7529 - accuracy: 0.4731 - val_loss: 1.8454 - val_accuracy: 0.4375\n",
            "Epoch 7/15\n",
            "72/72 [==============================] - 14s 202ms/step - loss: 1.7347 - accuracy: 0.4783 - val_loss: 1.8494 - val_accuracy: 0.4453\n",
            "Epoch 8/15\n",
            "72/72 [==============================] - 16s 217ms/step - loss: 1.7037 - accuracy: 0.4865 - val_loss: 1.8460 - val_accuracy: 0.5000\n",
            "Epoch 9/15\n",
            "72/72 [==============================] - 15s 202ms/step - loss: 1.6888 - accuracy: 0.4861 - val_loss: 1.8416 - val_accuracy: 0.4453\n",
            "Epoch 10/15\n",
            "72/72 [==============================] - 14s 201ms/step - loss: 1.6691 - accuracy: 0.5109 - val_loss: 1.8425 - val_accuracy: 0.4609\n",
            "Epoch 11/15\n",
            "72/72 [==============================] - 15s 203ms/step - loss: 1.6699 - accuracy: 0.5009 - val_loss: 1.8384 - val_accuracy: 0.4453\n",
            "Epoch 12/15\n",
            "72/72 [==============================] - 14s 202ms/step - loss: 1.6579 - accuracy: 0.5004 - val_loss: 1.8434 - val_accuracy: 0.4609\n",
            "Epoch 13/15\n",
            "72/72 [==============================] - 14s 202ms/step - loss: 1.6411 - accuracy: 0.5273 - val_loss: 1.8339 - val_accuracy: 0.4453\n",
            "Epoch 14/15\n",
            "72/72 [==============================] - 14s 202ms/step - loss: 1.6184 - accuracy: 0.5278 - val_loss: 1.8207 - val_accuracy: 0.4922\n",
            "Epoch 15/15\n",
            "72/72 [==============================] - 14s 202ms/step - loss: 1.6267 - accuracy: 0.5321 - val_loss: 1.8228 - val_accuracy: 0.4766\n",
            "4/4 [==============================] - 2s 172ms/step - loss: 1.8696 - accuracy: 0.4297\n",
            "mobilenet_v2\n",
            "INFO:tensorflow:Retraining the models...\n"
          ],
          "name": "stdout"
        },
        {
          "output_type": "stream",
          "text": [
            "INFO:tensorflow:Retraining the models...\n"
          ],
          "name": "stderr"
        },
        {
          "output_type": "stream",
          "text": [
            "WARNING:tensorflow:Please add `keras.layers.InputLayer` instead of `keras.Input` to Sequential model. `keras.Input` is intended to be used by Functional model.\n"
          ],
          "name": "stdout"
        },
        {
          "output_type": "stream",
          "text": [
            "WARNING:tensorflow:Please add `keras.layers.InputLayer` instead of `keras.Input` to Sequential model. `keras.Input` is intended to be used by Functional model.\n"
          ],
          "name": "stderr"
        },
        {
          "output_type": "stream",
          "text": [
            "Model: \"sequential_5\"\n",
            "_________________________________________________________________\n",
            "Layer (type)                 Output Shape              Param #   \n",
            "=================================================================\n",
            "hub_keras_layer_v1v2_5 (HubK (None, 1280)              2257984   \n",
            "_________________________________________________________________\n",
            "dropout_5 (Dropout)          (None, 1280)              0         \n",
            "_________________________________________________________________\n",
            "dense_5 (Dense)              (None, 13)                16653     \n",
            "=================================================================\n",
            "Total params: 2,274,637\n",
            "Trainable params: 16,653\n",
            "Non-trainable params: 2,257,984\n",
            "_________________________________________________________________\n",
            "None\n",
            "Epoch 1/15\n",
            "72/72 [==============================] - 11s 112ms/step - loss: 2.3767 - accuracy: 0.2617 - val_loss: 2.0752 - val_accuracy: 0.3359\n",
            "Epoch 2/15\n",
            "72/72 [==============================] - 8s 109ms/step - loss: 2.0215 - accuracy: 0.3793 - val_loss: 1.9896 - val_accuracy: 0.3672\n",
            "Epoch 3/15\n",
            "72/72 [==============================] - 8s 109ms/step - loss: 1.8919 - accuracy: 0.4236 - val_loss: 1.9223 - val_accuracy: 0.4297\n",
            "Epoch 4/15\n",
            "72/72 [==============================] - 8s 113ms/step - loss: 1.8154 - accuracy: 0.4566 - val_loss: 1.8831 - val_accuracy: 0.4531\n",
            "Epoch 5/15\n",
            "72/72 [==============================] - 9s 125ms/step - loss: 1.7277 - accuracy: 0.4878 - val_loss: 1.9777 - val_accuracy: 0.4062\n",
            "Epoch 6/15\n",
            "72/72 [==============================] - 8s 112ms/step - loss: 1.7580 - accuracy: 0.4792 - val_loss: 1.9023 - val_accuracy: 0.3906\n",
            "Epoch 7/15\n",
            "72/72 [==============================] - 7s 99ms/step - loss: 1.6872 - accuracy: 0.5095 - val_loss: 1.8923 - val_accuracy: 0.4219\n",
            "Epoch 8/15\n",
            "72/72 [==============================] - 7s 101ms/step - loss: 1.6560 - accuracy: 0.5234 - val_loss: 2.0286 - val_accuracy: 0.3828\n",
            "Epoch 9/15\n",
            "72/72 [==============================] - 7s 99ms/step - loss: 1.6533 - accuracy: 0.5130 - val_loss: 1.8946 - val_accuracy: 0.4688\n",
            "Epoch 10/15\n",
            "72/72 [==============================] - 7s 103ms/step - loss: 1.6154 - accuracy: 0.5343 - val_loss: 1.9399 - val_accuracy: 0.4297\n",
            "Epoch 11/15\n",
            "72/72 [==============================] - 6s 89ms/step - loss: 1.5666 - accuracy: 0.5655 - val_loss: 1.9791 - val_accuracy: 0.4219\n",
            "Epoch 12/15\n",
            "72/72 [==============================] - 8s 110ms/step - loss: 1.5467 - accuracy: 0.5716 - val_loss: 1.9211 - val_accuracy: 0.4531\n",
            "Epoch 13/15\n",
            "72/72 [==============================] - 7s 101ms/step - loss: 1.5441 - accuracy: 0.5773 - val_loss: 1.8803 - val_accuracy: 0.4453\n",
            "Epoch 14/15\n",
            "72/72 [==============================] - 7s 102ms/step - loss: 1.5265 - accuracy: 0.5855 - val_loss: 1.8887 - val_accuracy: 0.4453\n",
            "Epoch 15/15\n",
            "72/72 [==============================] - 7s 99ms/step - loss: 1.5154 - accuracy: 0.5833 - val_loss: 1.8705 - val_accuracy: 0.4609\n",
            "4/4 [==============================] - 1s 82ms/step - loss: 2.0850 - accuracy: 0.3281\n",
            "resnet_50\n",
            "INFO:tensorflow:Retraining the models...\n"
          ],
          "name": "stdout"
        },
        {
          "output_type": "stream",
          "text": [
            "INFO:tensorflow:Retraining the models...\n"
          ],
          "name": "stderr"
        },
        {
          "output_type": "stream",
          "text": [
            "WARNING:tensorflow:Please add `keras.layers.InputLayer` instead of `keras.Input` to Sequential model. `keras.Input` is intended to be used by Functional model.\n"
          ],
          "name": "stdout"
        },
        {
          "output_type": "stream",
          "text": [
            "WARNING:tensorflow:Please add `keras.layers.InputLayer` instead of `keras.Input` to Sequential model. `keras.Input` is intended to be used by Functional model.\n"
          ],
          "name": "stderr"
        },
        {
          "output_type": "stream",
          "text": [
            "Model: \"sequential_6\"\n",
            "_________________________________________________________________\n",
            "Layer (type)                 Output Shape              Param #   \n",
            "=================================================================\n",
            "hub_keras_layer_v1v2_6 (HubK (None, 2048)              23564800  \n",
            "_________________________________________________________________\n",
            "dropout_6 (Dropout)          (None, 2048)              0         \n",
            "_________________________________________________________________\n",
            "dense_6 (Dense)              (None, 13)                26637     \n",
            "=================================================================\n",
            "Total params: 23,591,437\n",
            "Trainable params: 26,637\n",
            "Non-trainable params: 23,564,800\n",
            "_________________________________________________________________\n",
            "None\n",
            "Epoch 1/15\n",
            "72/72 [==============================] - 13s 127ms/step - loss: 2.5767 - accuracy: 0.2522 - val_loss: 2.3381 - val_accuracy: 0.3047\n",
            "Epoch 2/15\n",
            "72/72 [==============================] - 9s 120ms/step - loss: 2.3066 - accuracy: 0.3455 - val_loss: 2.2384 - val_accuracy: 0.3203\n",
            "Epoch 3/15\n",
            "72/72 [==============================] - 9s 122ms/step - loss: 2.1823 - accuracy: 0.3568 - val_loss: 2.1525 - val_accuracy: 0.3438\n",
            "Epoch 4/15\n",
            "72/72 [==============================] - 8s 116ms/step - loss: 2.0850 - accuracy: 0.4062 - val_loss: 2.2425 - val_accuracy: 0.3281\n",
            "Epoch 5/15\n",
            "72/72 [==============================] - 8s 117ms/step - loss: 1.9857 - accuracy: 0.4310 - val_loss: 2.2014 - val_accuracy: 0.3359\n",
            "Epoch 6/15\n",
            "72/72 [==============================] - 8s 117ms/step - loss: 1.9273 - accuracy: 0.4444 - val_loss: 2.3254 - val_accuracy: 0.3438\n",
            "Epoch 7/15\n",
            "72/72 [==============================] - 9s 125ms/step - loss: 1.9613 - accuracy: 0.4540 - val_loss: 2.2718 - val_accuracy: 0.3359\n",
            "Epoch 8/15\n",
            "72/72 [==============================] - 8s 116ms/step - loss: 1.9269 - accuracy: 0.4588 - val_loss: 2.2535 - val_accuracy: 0.3672\n",
            "Epoch 9/15\n",
            "72/72 [==============================] - 8s 117ms/step - loss: 1.8212 - accuracy: 0.4887 - val_loss: 2.2114 - val_accuracy: 0.3516\n",
            "Epoch 10/15\n",
            "72/72 [==============================] - 8s 117ms/step - loss: 1.7852 - accuracy: 0.4957 - val_loss: 2.2461 - val_accuracy: 0.3438\n",
            "Epoch 11/15\n",
            "72/72 [==============================] - 8s 118ms/step - loss: 1.7482 - accuracy: 0.5056 - val_loss: 2.3183 - val_accuracy: 0.3203\n",
            "Epoch 12/15\n",
            "72/72 [==============================] - 8s 117ms/step - loss: 1.6919 - accuracy: 0.5321 - val_loss: 2.1994 - val_accuracy: 0.3203\n",
            "Epoch 13/15\n",
            "72/72 [==============================] - 8s 116ms/step - loss: 1.8052 - accuracy: 0.5056 - val_loss: 2.0641 - val_accuracy: 0.3906\n",
            "Epoch 14/15\n",
            "72/72 [==============================] - 8s 116ms/step - loss: 1.6924 - accuracy: 0.5243 - val_loss: 2.1511 - val_accuracy: 0.3750\n",
            "Epoch 15/15\n",
            "72/72 [==============================] - 8s 118ms/step - loss: 1.6946 - accuracy: 0.5530 - val_loss: 2.3912 - val_accuracy: 0.3594\n",
            "4/4 [==============================] - 1s 92ms/step - loss: 2.4230 - accuracy: 0.3047\n"
          ],
          "name": "stdout"
        }
      ]
    },
    {
      "cell_type": "markdown",
      "metadata": {
        "id": "eVZw9zU8t84y"
      },
      "source": [
        "3.  Test above with data augmentation by TFLite"
      ]
    },
    {
      "cell_type": "code",
      "metadata": {
        "id": "Zb-eIzfluCoa",
        "colab": {
          "base_uri": "https://localhost:8080/"
        },
        "outputId": "c1b74b97-6329-4891-f47e-58c28fd5c6d8"
      },
      "source": [
        "for i in models:\n",
        "  j = str(i)\n",
        "  print(j)\n",
        "  model = image_classifier.create(train_data, model_spec=model_spec.get(i), epochs=epoch, dropout_rate=dropout, validation_data=validationdata, use_augmentation=True,  shuffle=True)\n",
        "  loss, accuracy = model.evaluate(test_data)"
      ],
      "execution_count": 9,
      "outputs": [
        {
          "output_type": "stream",
          "text": [
            "efficientnet_lite0\n",
            "INFO:tensorflow:Retraining the models...\n"
          ],
          "name": "stdout"
        },
        {
          "output_type": "stream",
          "text": [
            "INFO:tensorflow:Retraining the models...\n"
          ],
          "name": "stderr"
        },
        {
          "output_type": "stream",
          "text": [
            "WARNING:tensorflow:Please add `keras.layers.InputLayer` instead of `keras.Input` to Sequential model. `keras.Input` is intended to be used by Functional model.\n"
          ],
          "name": "stdout"
        },
        {
          "output_type": "stream",
          "text": [
            "WARNING:tensorflow:Please add `keras.layers.InputLayer` instead of `keras.Input` to Sequential model. `keras.Input` is intended to be used by Functional model.\n"
          ],
          "name": "stderr"
        },
        {
          "output_type": "stream",
          "text": [
            "Model: \"sequential_7\"\n",
            "_________________________________________________________________\n",
            "Layer (type)                 Output Shape              Param #   \n",
            "=================================================================\n",
            "hub_keras_layer_v1v2_7 (HubK (None, 1280)              3413024   \n",
            "_________________________________________________________________\n",
            "dropout_7 (Dropout)          (None, 1280)              0         \n",
            "_________________________________________________________________\n",
            "dense_7 (Dense)              (None, 13)                16653     \n",
            "=================================================================\n",
            "Total params: 3,429,677\n",
            "Trainable params: 16,653\n",
            "Non-trainable params: 3,413,024\n",
            "_________________________________________________________________\n",
            "None\n",
            "INFO:tensorflow:Use default resize_bicubic.\n"
          ],
          "name": "stdout"
        },
        {
          "output_type": "stream",
          "text": [
            "INFO:tensorflow:Use default resize_bicubic.\n"
          ],
          "name": "stderr"
        },
        {
          "output_type": "stream",
          "text": [
            "INFO:tensorflow:Use customized resize method bilinear\n"
          ],
          "name": "stdout"
        },
        {
          "output_type": "stream",
          "text": [
            "INFO:tensorflow:Use customized resize method bilinear\n"
          ],
          "name": "stderr"
        },
        {
          "output_type": "stream",
          "text": [
            "INFO:tensorflow:Use customized resize method bilinear\n"
          ],
          "name": "stdout"
        },
        {
          "output_type": "stream",
          "text": [
            "INFO:tensorflow:Use customized resize method bilinear\n",
            "/usr/local/lib/python3.7/dist-packages/tensorflow/python/keras/optimizer_v2/optimizer_v2.py:375: UserWarning: The `lr` argument is deprecated, use `learning_rate` instead.\n",
            "  \"The `lr` argument is deprecated, use `learning_rate` instead.\")\n"
          ],
          "name": "stderr"
        },
        {
          "output_type": "stream",
          "text": [
            "Epoch 1/15\n",
            "72/72 [==============================] - 9s 105ms/step - loss: 2.3632 - accuracy: 0.2153 - val_loss: 1.8860 - val_accuracy: 0.4219\n",
            "Epoch 2/15\n",
            "72/72 [==============================] - 7s 99ms/step - loss: 2.0945 - accuracy: 0.3186 - val_loss: 1.8176 - val_accuracy: 0.4922\n",
            "Epoch 3/15\n",
            "72/72 [==============================] - 7s 102ms/step - loss: 2.0115 - accuracy: 0.3464 - val_loss: 1.7815 - val_accuracy: 0.5078\n",
            "Epoch 4/15\n",
            "72/72 [==============================] - 7s 105ms/step - loss: 1.9773 - accuracy: 0.3720 - val_loss: 1.7721 - val_accuracy: 0.4844\n",
            "Epoch 5/15\n",
            "72/72 [==============================] - 8s 110ms/step - loss: 1.9714 - accuracy: 0.3746 - val_loss: 1.7597 - val_accuracy: 0.5234\n",
            "Epoch 6/15\n",
            "72/72 [==============================] - 8s 105ms/step - loss: 1.9300 - accuracy: 0.3993 - val_loss: 1.7625 - val_accuracy: 0.5391\n",
            "Epoch 7/15\n",
            "72/72 [==============================] - 7s 104ms/step - loss: 1.9180 - accuracy: 0.3885 - val_loss: 1.7645 - val_accuracy: 0.5156\n",
            "Epoch 8/15\n",
            "72/72 [==============================] - 7s 104ms/step - loss: 1.8858 - accuracy: 0.4049 - val_loss: 1.7508 - val_accuracy: 0.5312\n",
            "Epoch 9/15\n",
            "72/72 [==============================] - 7s 96ms/step - loss: 1.8969 - accuracy: 0.4071 - val_loss: 1.7580 - val_accuracy: 0.5156\n",
            "Epoch 10/15\n",
            "72/72 [==============================] - 7s 95ms/step - loss: 1.8975 - accuracy: 0.3919 - val_loss: 1.7647 - val_accuracy: 0.5156\n",
            "Epoch 11/15\n",
            "72/72 [==============================] - 7s 96ms/step - loss: 1.8717 - accuracy: 0.4162 - val_loss: 1.7804 - val_accuracy: 0.5625\n",
            "Epoch 12/15\n",
            "72/72 [==============================] - 6s 90ms/step - loss: 1.8762 - accuracy: 0.4201 - val_loss: 1.7733 - val_accuracy: 0.5078\n",
            "Epoch 13/15\n",
            "72/72 [==============================] - 7s 101ms/step - loss: 1.8654 - accuracy: 0.4154 - val_loss: 1.7680 - val_accuracy: 0.5156\n",
            "Epoch 14/15\n",
            "72/72 [==============================] - 7s 95ms/step - loss: 1.8414 - accuracy: 0.4253 - val_loss: 1.7552 - val_accuracy: 0.5000\n",
            "Epoch 15/15\n",
            "72/72 [==============================] - 7s 95ms/step - loss: 1.8772 - accuracy: 0.4154 - val_loss: 1.7747 - val_accuracy: 0.4844\n",
            "INFO:tensorflow:Use customized resize method bilinear\n"
          ],
          "name": "stdout"
        },
        {
          "output_type": "stream",
          "text": [
            "INFO:tensorflow:Use customized resize method bilinear\n"
          ],
          "name": "stderr"
        },
        {
          "output_type": "stream",
          "text": [
            "4/4 [==============================] - 1s 71ms/step - loss: 1.8883 - accuracy: 0.3828\n",
            "efficientnet_lite1\n",
            "INFO:tensorflow:Retraining the models...\n"
          ],
          "name": "stdout"
        },
        {
          "output_type": "stream",
          "text": [
            "INFO:tensorflow:Retraining the models...\n"
          ],
          "name": "stderr"
        },
        {
          "output_type": "stream",
          "text": [
            "WARNING:tensorflow:Please add `keras.layers.InputLayer` instead of `keras.Input` to Sequential model. `keras.Input` is intended to be used by Functional model.\n"
          ],
          "name": "stdout"
        },
        {
          "output_type": "stream",
          "text": [
            "WARNING:tensorflow:Please add `keras.layers.InputLayer` instead of `keras.Input` to Sequential model. `keras.Input` is intended to be used by Functional model.\n"
          ],
          "name": "stderr"
        },
        {
          "output_type": "stream",
          "text": [
            "Model: \"sequential_8\"\n",
            "_________________________________________________________________\n",
            "Layer (type)                 Output Shape              Param #   \n",
            "=================================================================\n",
            "hub_keras_layer_v1v2_8 (HubK (None, 1280)              4189344   \n",
            "_________________________________________________________________\n",
            "dropout_8 (Dropout)          (None, 1280)              0         \n",
            "_________________________________________________________________\n",
            "dense_8 (Dense)              (None, 13)                16653     \n",
            "=================================================================\n",
            "Total params: 4,205,997\n",
            "Trainable params: 16,653\n",
            "Non-trainable params: 4,189,344\n",
            "_________________________________________________________________\n",
            "None\n",
            "INFO:tensorflow:Use default resize_bicubic.\n"
          ],
          "name": "stdout"
        },
        {
          "output_type": "stream",
          "text": [
            "INFO:tensorflow:Use default resize_bicubic.\n"
          ],
          "name": "stderr"
        },
        {
          "output_type": "stream",
          "text": [
            "INFO:tensorflow:Use customized resize method bilinear\n"
          ],
          "name": "stdout"
        },
        {
          "output_type": "stream",
          "text": [
            "INFO:tensorflow:Use customized resize method bilinear\n"
          ],
          "name": "stderr"
        },
        {
          "output_type": "stream",
          "text": [
            "INFO:tensorflow:Use customized resize method bilinear\n"
          ],
          "name": "stdout"
        },
        {
          "output_type": "stream",
          "text": [
            "INFO:tensorflow:Use customized resize method bilinear\n"
          ],
          "name": "stderr"
        },
        {
          "output_type": "stream",
          "text": [
            "Epoch 1/15\n",
            "72/72 [==============================] - 11s 120ms/step - loss: 2.3494 - accuracy: 0.2144 - val_loss: 1.9344 - val_accuracy: 0.4062\n",
            "Epoch 2/15\n",
            "72/72 [==============================] - 8s 113ms/step - loss: 2.0820 - accuracy: 0.3129 - val_loss: 1.8399 - val_accuracy: 0.4453\n",
            "Epoch 3/15\n",
            "72/72 [==============================] - 8s 114ms/step - loss: 1.9885 - accuracy: 0.3611 - val_loss: 1.8392 - val_accuracy: 0.4375\n",
            "Epoch 4/15\n",
            "72/72 [==============================] - 9s 119ms/step - loss: 1.9653 - accuracy: 0.3746 - val_loss: 1.7984 - val_accuracy: 0.4609\n",
            "Epoch 5/15\n",
            "72/72 [==============================] - 9s 123ms/step - loss: 1.9430 - accuracy: 0.3832 - val_loss: 1.8035 - val_accuracy: 0.4688\n",
            "Epoch 6/15\n",
            "72/72 [==============================] - 8s 112ms/step - loss: 1.9346 - accuracy: 0.3780 - val_loss: 1.7828 - val_accuracy: 0.4609\n",
            "Epoch 7/15\n",
            "72/72 [==============================] - 8s 109ms/step - loss: 1.9161 - accuracy: 0.3971 - val_loss: 1.7818 - val_accuracy: 0.4844\n",
            "Epoch 8/15\n",
            "72/72 [==============================] - 8s 109ms/step - loss: 1.9091 - accuracy: 0.3915 - val_loss: 1.7843 - val_accuracy: 0.4609\n",
            "Epoch 9/15\n",
            "72/72 [==============================] - 8s 111ms/step - loss: 1.8890 - accuracy: 0.4102 - val_loss: 1.7731 - val_accuracy: 0.4766\n",
            "Epoch 10/15\n",
            "72/72 [==============================] - 8s 110ms/step - loss: 1.8941 - accuracy: 0.4097 - val_loss: 1.7782 - val_accuracy: 0.4766\n",
            "Epoch 11/15\n",
            "72/72 [==============================] - 8s 109ms/step - loss: 1.8676 - accuracy: 0.4132 - val_loss: 1.7793 - val_accuracy: 0.4844\n",
            "Epoch 12/15\n",
            "72/72 [==============================] - 8s 110ms/step - loss: 1.8418 - accuracy: 0.4227 - val_loss: 1.7806 - val_accuracy: 0.4922\n",
            "Epoch 13/15\n",
            "72/72 [==============================] - 8s 110ms/step - loss: 1.8434 - accuracy: 0.4314 - val_loss: 1.8086 - val_accuracy: 0.5000\n",
            "Epoch 14/15\n",
            "72/72 [==============================] - 8s 110ms/step - loss: 1.8364 - accuracy: 0.4332 - val_loss: 1.7947 - val_accuracy: 0.4844\n",
            "Epoch 15/15\n",
            "72/72 [==============================] - 8s 110ms/step - loss: 1.8444 - accuracy: 0.4323 - val_loss: 1.7837 - val_accuracy: 0.4922\n",
            "INFO:tensorflow:Use customized resize method bilinear\n"
          ],
          "name": "stdout"
        },
        {
          "output_type": "stream",
          "text": [
            "INFO:tensorflow:Use customized resize method bilinear\n"
          ],
          "name": "stderr"
        },
        {
          "output_type": "stream",
          "text": [
            "4/4 [==============================] - 1s 82ms/step - loss: 1.9171 - accuracy: 0.3672\n",
            "efficientnet_lite2\n",
            "INFO:tensorflow:Retraining the models...\n"
          ],
          "name": "stdout"
        },
        {
          "output_type": "stream",
          "text": [
            "INFO:tensorflow:Retraining the models...\n"
          ],
          "name": "stderr"
        },
        {
          "output_type": "stream",
          "text": [
            "WARNING:tensorflow:Please add `keras.layers.InputLayer` instead of `keras.Input` to Sequential model. `keras.Input` is intended to be used by Functional model.\n"
          ],
          "name": "stdout"
        },
        {
          "output_type": "stream",
          "text": [
            "WARNING:tensorflow:Please add `keras.layers.InputLayer` instead of `keras.Input` to Sequential model. `keras.Input` is intended to be used by Functional model.\n"
          ],
          "name": "stderr"
        },
        {
          "output_type": "stream",
          "text": [
            "Model: \"sequential_9\"\n",
            "_________________________________________________________________\n",
            "Layer (type)                 Output Shape              Param #   \n",
            "=================================================================\n",
            "hub_keras_layer_v1v2_9 (HubK (None, 1280)              4869168   \n",
            "_________________________________________________________________\n",
            "dropout_9 (Dropout)          (None, 1280)              0         \n",
            "_________________________________________________________________\n",
            "dense_9 (Dense)              (None, 13)                16653     \n",
            "=================================================================\n",
            "Total params: 4,885,821\n",
            "Trainable params: 16,653\n",
            "Non-trainable params: 4,869,168\n",
            "_________________________________________________________________\n",
            "None\n",
            "INFO:tensorflow:Use default resize_bicubic.\n"
          ],
          "name": "stdout"
        },
        {
          "output_type": "stream",
          "text": [
            "INFO:tensorflow:Use default resize_bicubic.\n"
          ],
          "name": "stderr"
        },
        {
          "output_type": "stream",
          "text": [
            "INFO:tensorflow:Use customized resize method bilinear\n"
          ],
          "name": "stdout"
        },
        {
          "output_type": "stream",
          "text": [
            "INFO:tensorflow:Use customized resize method bilinear\n"
          ],
          "name": "stderr"
        },
        {
          "output_type": "stream",
          "text": [
            "INFO:tensorflow:Use customized resize method bilinear\n"
          ],
          "name": "stdout"
        },
        {
          "output_type": "stream",
          "text": [
            "INFO:tensorflow:Use customized resize method bilinear\n"
          ],
          "name": "stderr"
        },
        {
          "output_type": "stream",
          "text": [
            "Epoch 1/15\n",
            "72/72 [==============================] - 12s 132ms/step - loss: 2.3839 - accuracy: 0.2114 - val_loss: 1.9860 - val_accuracy: 0.3984\n",
            "Epoch 2/15\n",
            "72/72 [==============================] - 9s 128ms/step - loss: 2.0887 - accuracy: 0.3247 - val_loss: 1.8931 - val_accuracy: 0.4766\n",
            "Epoch 3/15\n",
            "72/72 [==============================] - 9s 130ms/step - loss: 2.0234 - accuracy: 0.3472 - val_loss: 1.8662 - val_accuracy: 0.4766\n",
            "Epoch 4/15\n",
            "72/72 [==============================] - 10s 133ms/step - loss: 1.9834 - accuracy: 0.3615 - val_loss: 1.8540 - val_accuracy: 0.4453\n",
            "Epoch 5/15\n",
            "72/72 [==============================] - 9s 124ms/step - loss: 1.9693 - accuracy: 0.3550 - val_loss: 1.8185 - val_accuracy: 0.4609\n",
            "Epoch 6/15\n",
            "72/72 [==============================] - 9s 123ms/step - loss: 1.9417 - accuracy: 0.3780 - val_loss: 1.8155 - val_accuracy: 0.4922\n",
            "Epoch 7/15\n",
            "72/72 [==============================] - 9s 124ms/step - loss: 1.9184 - accuracy: 0.3867 - val_loss: 1.8123 - val_accuracy: 0.4609\n",
            "Epoch 8/15\n",
            "72/72 [==============================] - 9s 121ms/step - loss: 1.9059 - accuracy: 0.3911 - val_loss: 1.8020 - val_accuracy: 0.4844\n",
            "Epoch 9/15\n",
            "72/72 [==============================] - 9s 122ms/step - loss: 1.8917 - accuracy: 0.4045 - val_loss: 1.7938 - val_accuracy: 0.4766\n",
            "Epoch 10/15\n",
            "72/72 [==============================] - 9s 124ms/step - loss: 1.8948 - accuracy: 0.4123 - val_loss: 1.7935 - val_accuracy: 0.4688\n",
            "Epoch 11/15\n",
            "72/72 [==============================] - 9s 124ms/step - loss: 1.9030 - accuracy: 0.4002 - val_loss: 1.7929 - val_accuracy: 0.4531\n",
            "Epoch 12/15\n",
            "72/72 [==============================] - 9s 123ms/step - loss: 1.8797 - accuracy: 0.3989 - val_loss: 1.7984 - val_accuracy: 0.4766\n",
            "Epoch 13/15\n",
            "72/72 [==============================] - 9s 122ms/step - loss: 1.8695 - accuracy: 0.4119 - val_loss: 1.7927 - val_accuracy: 0.4609\n",
            "Epoch 14/15\n",
            "72/72 [==============================] - 9s 124ms/step - loss: 1.8781 - accuracy: 0.4240 - val_loss: 1.7893 - val_accuracy: 0.4922\n",
            "Epoch 15/15\n",
            "72/72 [==============================] - 9s 122ms/step - loss: 1.8530 - accuracy: 0.4175 - val_loss: 1.8067 - val_accuracy: 0.4766\n",
            "INFO:tensorflow:Use customized resize method bilinear\n"
          ],
          "name": "stdout"
        },
        {
          "output_type": "stream",
          "text": [
            "INFO:tensorflow:Use customized resize method bilinear\n"
          ],
          "name": "stderr"
        },
        {
          "output_type": "stream",
          "text": [
            "4/4 [==============================] - 1s 96ms/step - loss: 1.9227 - accuracy: 0.3594\n",
            "efficientnet_lite3\n",
            "INFO:tensorflow:Retraining the models...\n"
          ],
          "name": "stdout"
        },
        {
          "output_type": "stream",
          "text": [
            "INFO:tensorflow:Retraining the models...\n"
          ],
          "name": "stderr"
        },
        {
          "output_type": "stream",
          "text": [
            "WARNING:tensorflow:Please add `keras.layers.InputLayer` instead of `keras.Input` to Sequential model. `keras.Input` is intended to be used by Functional model.\n"
          ],
          "name": "stdout"
        },
        {
          "output_type": "stream",
          "text": [
            "WARNING:tensorflow:Please add `keras.layers.InputLayer` instead of `keras.Input` to Sequential model. `keras.Input` is intended to be used by Functional model.\n"
          ],
          "name": "stderr"
        },
        {
          "output_type": "stream",
          "text": [
            "Model: \"sequential_10\"\n",
            "_________________________________________________________________\n",
            "Layer (type)                 Output Shape              Param #   \n",
            "=================================================================\n",
            "hub_keras_layer_v1v2_10 (Hub (None, 1280)              6992768   \n",
            "_________________________________________________________________\n",
            "dropout_10 (Dropout)         (None, 1280)              0         \n",
            "_________________________________________________________________\n",
            "dense_10 (Dense)             (None, 13)                16653     \n",
            "=================================================================\n",
            "Total params: 7,009,421\n",
            "Trainable params: 16,653\n",
            "Non-trainable params: 6,992,768\n",
            "_________________________________________________________________\n",
            "None\n",
            "INFO:tensorflow:Use default resize_bicubic.\n"
          ],
          "name": "stdout"
        },
        {
          "output_type": "stream",
          "text": [
            "INFO:tensorflow:Use default resize_bicubic.\n"
          ],
          "name": "stderr"
        },
        {
          "output_type": "stream",
          "text": [
            "INFO:tensorflow:Use customized resize method bilinear\n"
          ],
          "name": "stdout"
        },
        {
          "output_type": "stream",
          "text": [
            "INFO:tensorflow:Use customized resize method bilinear\n"
          ],
          "name": "stderr"
        },
        {
          "output_type": "stream",
          "text": [
            "INFO:tensorflow:Use customized resize method bilinear\n"
          ],
          "name": "stdout"
        },
        {
          "output_type": "stream",
          "text": [
            "INFO:tensorflow:Use customized resize method bilinear\n"
          ],
          "name": "stderr"
        },
        {
          "output_type": "stream",
          "text": [
            "Epoch 1/15\n",
            "72/72 [==============================] - 14s 153ms/step - loss: 2.3143 - accuracy: 0.2413 - val_loss: 1.8704 - val_accuracy: 0.4453\n",
            "Epoch 2/15\n",
            "72/72 [==============================] - 10s 144ms/step - loss: 2.0583 - accuracy: 0.3277 - val_loss: 1.8431 - val_accuracy: 0.4688\n",
            "Epoch 3/15\n",
            "72/72 [==============================] - 10s 144ms/step - loss: 2.0041 - accuracy: 0.3676 - val_loss: 1.8123 - val_accuracy: 0.4375\n",
            "Epoch 4/15\n",
            "72/72 [==============================] - 10s 145ms/step - loss: 1.9554 - accuracy: 0.3720 - val_loss: 1.8113 - val_accuracy: 0.4609\n",
            "Epoch 5/15\n",
            "72/72 [==============================] - 10s 143ms/step - loss: 1.9492 - accuracy: 0.3707 - val_loss: 1.8039 - val_accuracy: 0.4609\n",
            "Epoch 6/15\n",
            "72/72 [==============================] - 10s 143ms/step - loss: 1.9110 - accuracy: 0.3967 - val_loss: 1.7916 - val_accuracy: 0.4766\n",
            "Epoch 7/15\n",
            "72/72 [==============================] - 10s 144ms/step - loss: 1.9040 - accuracy: 0.4036 - val_loss: 1.7944 - val_accuracy: 0.4609\n",
            "Epoch 8/15\n",
            "72/72 [==============================] - 10s 146ms/step - loss: 1.8903 - accuracy: 0.4123 - val_loss: 1.8000 - val_accuracy: 0.4688\n",
            "Epoch 9/15\n",
            "72/72 [==============================] - 10s 146ms/step - loss: 1.8798 - accuracy: 0.4071 - val_loss: 1.7906 - val_accuracy: 0.4688\n",
            "Epoch 10/15\n",
            "72/72 [==============================] - 10s 145ms/step - loss: 1.8846 - accuracy: 0.4180 - val_loss: 1.8113 - val_accuracy: 0.4766\n",
            "Epoch 11/15\n",
            "72/72 [==============================] - 11s 148ms/step - loss: 1.8754 - accuracy: 0.4106 - val_loss: 1.8061 - val_accuracy: 0.4531\n",
            "Epoch 12/15\n",
            "72/72 [==============================] - 10s 144ms/step - loss: 1.8545 - accuracy: 0.4266 - val_loss: 1.7842 - val_accuracy: 0.5234\n",
            "Epoch 13/15\n",
            "72/72 [==============================] - 10s 143ms/step - loss: 1.8370 - accuracy: 0.4288 - val_loss: 1.8223 - val_accuracy: 0.5000\n",
            "Epoch 14/15\n",
            "72/72 [==============================] - 10s 144ms/step - loss: 1.8494 - accuracy: 0.4310 - val_loss: 1.7863 - val_accuracy: 0.4766\n",
            "Epoch 15/15\n",
            "72/72 [==============================] - 10s 144ms/step - loss: 1.8274 - accuracy: 0.4414 - val_loss: 1.7895 - val_accuracy: 0.5000\n",
            "INFO:tensorflow:Use customized resize method bilinear\n"
          ],
          "name": "stdout"
        },
        {
          "output_type": "stream",
          "text": [
            "INFO:tensorflow:Use customized resize method bilinear\n"
          ],
          "name": "stderr"
        },
        {
          "output_type": "stream",
          "text": [
            "4/4 [==============================] - 2s 120ms/step - loss: 1.9223 - accuracy: 0.3594\n",
            "efficientnet_lite4\n",
            "INFO:tensorflow:Retraining the models...\n"
          ],
          "name": "stdout"
        },
        {
          "output_type": "stream",
          "text": [
            "INFO:tensorflow:Retraining the models...\n"
          ],
          "name": "stderr"
        },
        {
          "output_type": "stream",
          "text": [
            "WARNING:tensorflow:Please add `keras.layers.InputLayer` instead of `keras.Input` to Sequential model. `keras.Input` is intended to be used by Functional model.\n"
          ],
          "name": "stdout"
        },
        {
          "output_type": "stream",
          "text": [
            "WARNING:tensorflow:Please add `keras.layers.InputLayer` instead of `keras.Input` to Sequential model. `keras.Input` is intended to be used by Functional model.\n"
          ],
          "name": "stderr"
        },
        {
          "output_type": "stream",
          "text": [
            "Model: \"sequential_11\"\n",
            "_________________________________________________________________\n",
            "Layer (type)                 Output Shape              Param #   \n",
            "=================================================================\n",
            "hub_keras_layer_v1v2_11 (Hub (None, 1280)              11837936  \n",
            "_________________________________________________________________\n",
            "dropout_11 (Dropout)         (None, 1280)              0         \n",
            "_________________________________________________________________\n",
            "dense_11 (Dense)             (None, 13)                16653     \n",
            "=================================================================\n",
            "Total params: 11,854,589\n",
            "Trainable params: 16,653\n",
            "Non-trainable params: 11,837,936\n",
            "_________________________________________________________________\n",
            "None\n",
            "INFO:tensorflow:Use default resize_bicubic.\n"
          ],
          "name": "stdout"
        },
        {
          "output_type": "stream",
          "text": [
            "INFO:tensorflow:Use default resize_bicubic.\n"
          ],
          "name": "stderr"
        },
        {
          "output_type": "stream",
          "text": [
            "INFO:tensorflow:Use customized resize method bilinear\n"
          ],
          "name": "stdout"
        },
        {
          "output_type": "stream",
          "text": [
            "INFO:tensorflow:Use customized resize method bilinear\n"
          ],
          "name": "stderr"
        },
        {
          "output_type": "stream",
          "text": [
            "INFO:tensorflow:Use customized resize method bilinear\n"
          ],
          "name": "stdout"
        },
        {
          "output_type": "stream",
          "text": [
            "INFO:tensorflow:Use customized resize method bilinear\n"
          ],
          "name": "stderr"
        },
        {
          "output_type": "stream",
          "text": [
            "Epoch 1/15\n",
            "72/72 [==============================] - 18s 212ms/step - loss: 2.3319 - accuracy: 0.2287 - val_loss: 1.9297 - val_accuracy: 0.3906\n",
            "Epoch 2/15\n",
            "72/72 [==============================] - 15s 205ms/step - loss: 2.0379 - accuracy: 0.3273 - val_loss: 1.8574 - val_accuracy: 0.3750\n",
            "Epoch 3/15\n",
            "72/72 [==============================] - 16s 220ms/step - loss: 2.0129 - accuracy: 0.3333 - val_loss: 1.8199 - val_accuracy: 0.4297\n",
            "Epoch 4/15\n",
            "72/72 [==============================] - 15s 203ms/step - loss: 1.9605 - accuracy: 0.3702 - val_loss: 1.8054 - val_accuracy: 0.4375\n",
            "Epoch 5/15\n",
            "72/72 [==============================] - 15s 202ms/step - loss: 1.9357 - accuracy: 0.3659 - val_loss: 1.8161 - val_accuracy: 0.4297\n",
            "Epoch 6/15\n",
            "72/72 [==============================] - 14s 202ms/step - loss: 1.9132 - accuracy: 0.3932 - val_loss: 1.8007 - val_accuracy: 0.4453\n",
            "Epoch 7/15\n",
            "72/72 [==============================] - 15s 203ms/step - loss: 1.9077 - accuracy: 0.3993 - val_loss: 1.7972 - val_accuracy: 0.4453\n",
            "Epoch 8/15\n",
            "72/72 [==============================] - 15s 204ms/step - loss: 1.8922 - accuracy: 0.4071 - val_loss: 1.8059 - val_accuracy: 0.4531\n",
            "Epoch 9/15\n",
            "72/72 [==============================] - 15s 204ms/step - loss: 1.8774 - accuracy: 0.4062 - val_loss: 1.8041 - val_accuracy: 0.4531\n",
            "Epoch 10/15\n",
            "72/72 [==============================] - 15s 203ms/step - loss: 1.8738 - accuracy: 0.4054 - val_loss: 1.7983 - val_accuracy: 0.4531\n",
            "Epoch 11/15\n",
            "72/72 [==============================] - 15s 203ms/step - loss: 1.8660 - accuracy: 0.4136 - val_loss: 1.8007 - val_accuracy: 0.4688\n",
            "Epoch 12/15\n",
            "72/72 [==============================] - 15s 202ms/step - loss: 1.8513 - accuracy: 0.4223 - val_loss: 1.7977 - val_accuracy: 0.4609\n",
            "Epoch 13/15\n",
            "72/72 [==============================] - 15s 204ms/step - loss: 1.8598 - accuracy: 0.4219 - val_loss: 1.7993 - val_accuracy: 0.4609\n",
            "Epoch 14/15\n",
            "72/72 [==============================] - 15s 203ms/step - loss: 1.8578 - accuracy: 0.4293 - val_loss: 1.7967 - val_accuracy: 0.4766\n",
            "Epoch 15/15\n",
            "72/72 [==============================] - 15s 203ms/step - loss: 1.8584 - accuracy: 0.4110 - val_loss: 1.8056 - val_accuracy: 0.4688\n",
            "INFO:tensorflow:Use customized resize method bilinear\n"
          ],
          "name": "stdout"
        },
        {
          "output_type": "stream",
          "text": [
            "INFO:tensorflow:Use customized resize method bilinear\n"
          ],
          "name": "stderr"
        },
        {
          "output_type": "stream",
          "text": [
            "4/4 [==============================] - 2s 171ms/step - loss: 1.8578 - accuracy: 0.3750\n",
            "mobilenet_v2\n",
            "INFO:tensorflow:Retraining the models...\n"
          ],
          "name": "stdout"
        },
        {
          "output_type": "stream",
          "text": [
            "INFO:tensorflow:Retraining the models...\n"
          ],
          "name": "stderr"
        },
        {
          "output_type": "stream",
          "text": [
            "WARNING:tensorflow:Please add `keras.layers.InputLayer` instead of `keras.Input` to Sequential model. `keras.Input` is intended to be used by Functional model.\n"
          ],
          "name": "stdout"
        },
        {
          "output_type": "stream",
          "text": [
            "WARNING:tensorflow:Please add `keras.layers.InputLayer` instead of `keras.Input` to Sequential model. `keras.Input` is intended to be used by Functional model.\n"
          ],
          "name": "stderr"
        },
        {
          "output_type": "stream",
          "text": [
            "Model: \"sequential_12\"\n",
            "_________________________________________________________________\n",
            "Layer (type)                 Output Shape              Param #   \n",
            "=================================================================\n",
            "hub_keras_layer_v1v2_12 (Hub (None, 1280)              2257984   \n",
            "_________________________________________________________________\n",
            "dropout_12 (Dropout)         (None, 1280)              0         \n",
            "_________________________________________________________________\n",
            "dense_12 (Dense)             (None, 13)                16653     \n",
            "=================================================================\n",
            "Total params: 2,274,637\n",
            "Trainable params: 16,653\n",
            "Non-trainable params: 2,257,984\n",
            "_________________________________________________________________\n",
            "None\n",
            "INFO:tensorflow:Use default resize_bicubic.\n"
          ],
          "name": "stdout"
        },
        {
          "output_type": "stream",
          "text": [
            "INFO:tensorflow:Use default resize_bicubic.\n"
          ],
          "name": "stderr"
        },
        {
          "output_type": "stream",
          "text": [
            "INFO:tensorflow:Use customized resize method bilinear\n"
          ],
          "name": "stdout"
        },
        {
          "output_type": "stream",
          "text": [
            "INFO:tensorflow:Use customized resize method bilinear\n"
          ],
          "name": "stderr"
        },
        {
          "output_type": "stream",
          "text": [
            "INFO:tensorflow:Use customized resize method bilinear\n"
          ],
          "name": "stdout"
        },
        {
          "output_type": "stream",
          "text": [
            "INFO:tensorflow:Use customized resize method bilinear\n"
          ],
          "name": "stderr"
        },
        {
          "output_type": "stream",
          "text": [
            "Epoch 1/15\n",
            "72/72 [==============================] - 11s 104ms/step - loss: 2.5670 - accuracy: 0.2075 - val_loss: 2.0579 - val_accuracy: 0.3594\n",
            "Epoch 2/15\n",
            "72/72 [==============================] - 7s 99ms/step - loss: 2.2818 - accuracy: 0.2904 - val_loss: 1.9829 - val_accuracy: 0.4141\n",
            "Epoch 3/15\n",
            "72/72 [==============================] - 7s 100ms/step - loss: 2.1781 - accuracy: 0.3273 - val_loss: 1.9713 - val_accuracy: 0.3750\n",
            "Epoch 4/15\n",
            "72/72 [==============================] - 7s 105ms/step - loss: 2.1467 - accuracy: 0.3377 - val_loss: 1.9209 - val_accuracy: 0.4375\n",
            "Epoch 5/15\n",
            "72/72 [==============================] - 8s 111ms/step - loss: 2.1047 - accuracy: 0.3398 - val_loss: 1.8660 - val_accuracy: 0.4453\n",
            "Epoch 6/15\n",
            "72/72 [==============================] - 7s 94ms/step - loss: 2.1524 - accuracy: 0.3260 - val_loss: 2.1261 - val_accuracy: 0.3125\n",
            "Epoch 7/15\n",
            "72/72 [==============================] - 8s 105ms/step - loss: 2.1051 - accuracy: 0.3424 - val_loss: 1.9412 - val_accuracy: 0.4141\n",
            "Epoch 8/15\n",
            "72/72 [==============================] - 7s 102ms/step - loss: 2.0763 - accuracy: 0.3633 - val_loss: 1.9220 - val_accuracy: 0.4297\n",
            "Epoch 9/15\n",
            "72/72 [==============================] - 7s 98ms/step - loss: 2.0609 - accuracy: 0.3598 - val_loss: 1.9411 - val_accuracy: 0.4141\n",
            "Epoch 10/15\n",
            "72/72 [==============================] - 7s 101ms/step - loss: 2.0311 - accuracy: 0.3750 - val_loss: 1.8662 - val_accuracy: 0.4141\n",
            "Epoch 11/15\n",
            "72/72 [==============================] - 7s 96ms/step - loss: 2.0299 - accuracy: 0.3676 - val_loss: 1.9204 - val_accuracy: 0.3906\n",
            "Epoch 12/15\n",
            "72/72 [==============================] - 6s 85ms/step - loss: 2.0522 - accuracy: 0.3698 - val_loss: 1.9814 - val_accuracy: 0.4141\n",
            "Epoch 13/15\n",
            "72/72 [==============================] - 7s 98ms/step - loss: 2.0196 - accuracy: 0.3919 - val_loss: 1.9799 - val_accuracy: 0.4062\n",
            "Epoch 14/15\n",
            "72/72 [==============================] - 7s 97ms/step - loss: 2.0309 - accuracy: 0.3741 - val_loss: 1.8729 - val_accuracy: 0.4141\n",
            "Epoch 15/15\n",
            "72/72 [==============================] - 7s 98ms/step - loss: 2.0116 - accuracy: 0.3859 - val_loss: 1.8972 - val_accuracy: 0.4062\n",
            "INFO:tensorflow:Use customized resize method bilinear\n"
          ],
          "name": "stdout"
        },
        {
          "output_type": "stream",
          "text": [
            "INFO:tensorflow:Use customized resize method bilinear\n"
          ],
          "name": "stderr"
        },
        {
          "output_type": "stream",
          "text": [
            "4/4 [==============================] - 1s 68ms/step - loss: 2.0826 - accuracy: 0.3516\n",
            "resnet_50\n",
            "INFO:tensorflow:Retraining the models...\n"
          ],
          "name": "stdout"
        },
        {
          "output_type": "stream",
          "text": [
            "INFO:tensorflow:Retraining the models...\n"
          ],
          "name": "stderr"
        },
        {
          "output_type": "stream",
          "text": [
            "WARNING:tensorflow:Please add `keras.layers.InputLayer` instead of `keras.Input` to Sequential model. `keras.Input` is intended to be used by Functional model.\n"
          ],
          "name": "stdout"
        },
        {
          "output_type": "stream",
          "text": [
            "WARNING:tensorflow:Please add `keras.layers.InputLayer` instead of `keras.Input` to Sequential model. `keras.Input` is intended to be used by Functional model.\n"
          ],
          "name": "stderr"
        },
        {
          "output_type": "stream",
          "text": [
            "Model: \"sequential_13\"\n",
            "_________________________________________________________________\n",
            "Layer (type)                 Output Shape              Param #   \n",
            "=================================================================\n",
            "hub_keras_layer_v1v2_13 (Hub (None, 2048)              23564800  \n",
            "_________________________________________________________________\n",
            "dropout_13 (Dropout)         (None, 2048)              0         \n",
            "_________________________________________________________________\n",
            "dense_13 (Dense)             (None, 13)                26637     \n",
            "=================================================================\n",
            "Total params: 23,591,437\n",
            "Trainable params: 26,637\n",
            "Non-trainable params: 23,564,800\n",
            "_________________________________________________________________\n",
            "None\n",
            "INFO:tensorflow:Use default resize_bicubic.\n"
          ],
          "name": "stdout"
        },
        {
          "output_type": "stream",
          "text": [
            "INFO:tensorflow:Use default resize_bicubic.\n"
          ],
          "name": "stderr"
        },
        {
          "output_type": "stream",
          "text": [
            "INFO:tensorflow:Use customized resize method bilinear\n"
          ],
          "name": "stdout"
        },
        {
          "output_type": "stream",
          "text": [
            "INFO:tensorflow:Use customized resize method bilinear\n"
          ],
          "name": "stderr"
        },
        {
          "output_type": "stream",
          "text": [
            "INFO:tensorflow:Use customized resize method bilinear\n"
          ],
          "name": "stdout"
        },
        {
          "output_type": "stream",
          "text": [
            "INFO:tensorflow:Use customized resize method bilinear\n"
          ],
          "name": "stderr"
        },
        {
          "output_type": "stream",
          "text": [
            "Epoch 1/15\n",
            "72/72 [==============================] - 12s 118ms/step - loss: 2.6324 - accuracy: 0.2400 - val_loss: 2.1211 - val_accuracy: 0.3125\n",
            "Epoch 2/15\n",
            "72/72 [==============================] - 8s 111ms/step - loss: 2.4809 - accuracy: 0.2726 - val_loss: 1.9986 - val_accuracy: 0.4531\n",
            "Epoch 3/15\n",
            "72/72 [==============================] - 8s 111ms/step - loss: 2.4629 - accuracy: 0.2986 - val_loss: 2.2908 - val_accuracy: 0.3516\n",
            "Epoch 4/15\n",
            "72/72 [==============================] - 8s 110ms/step - loss: 2.4249 - accuracy: 0.3008 - val_loss: 2.1570 - val_accuracy: 0.4062\n",
            "Epoch 5/15\n",
            "72/72 [==============================] - 8s 111ms/step - loss: 2.3334 - accuracy: 0.3225 - val_loss: 2.0887 - val_accuracy: 0.4219\n",
            "Epoch 6/15\n",
            "72/72 [==============================] - 8s 114ms/step - loss: 2.2463 - accuracy: 0.3507 - val_loss: 2.1732 - val_accuracy: 0.3906\n",
            "Epoch 7/15\n",
            "72/72 [==============================] - 8s 111ms/step - loss: 2.2928 - accuracy: 0.3329 - val_loss: 2.0585 - val_accuracy: 0.3828\n",
            "Epoch 8/15\n",
            "72/72 [==============================] - 8s 110ms/step - loss: 2.2936 - accuracy: 0.3411 - val_loss: 2.1645 - val_accuracy: 0.3750\n",
            "Epoch 9/15\n",
            "72/72 [==============================] - 8s 110ms/step - loss: 2.3351 - accuracy: 0.3355 - val_loss: 2.2961 - val_accuracy: 0.3438\n",
            "Epoch 10/15\n",
            "72/72 [==============================] - 8s 111ms/step - loss: 2.3646 - accuracy: 0.3251 - val_loss: 2.0921 - val_accuracy: 0.3750\n",
            "Epoch 11/15\n",
            "72/72 [==============================] - 8s 111ms/step - loss: 2.2591 - accuracy: 0.3494 - val_loss: 2.3214 - val_accuracy: 0.3281\n",
            "Epoch 12/15\n",
            "72/72 [==============================] - 8s 110ms/step - loss: 2.2663 - accuracy: 0.3602 - val_loss: 2.1648 - val_accuracy: 0.3672\n",
            "Epoch 13/15\n",
            "72/72 [==============================] - 8s 110ms/step - loss: 2.1799 - accuracy: 0.3785 - val_loss: 2.1025 - val_accuracy: 0.4141\n",
            "Epoch 14/15\n",
            "72/72 [==============================] - 8s 111ms/step - loss: 2.2019 - accuracy: 0.3585 - val_loss: 1.9926 - val_accuracy: 0.4375\n",
            "Epoch 15/15\n",
            "72/72 [==============================] - 8s 111ms/step - loss: 2.2532 - accuracy: 0.3446 - val_loss: 2.1304 - val_accuracy: 0.3750\n",
            "INFO:tensorflow:Use customized resize method bilinear\n"
          ],
          "name": "stdout"
        },
        {
          "output_type": "stream",
          "text": [
            "INFO:tensorflow:Use customized resize method bilinear\n"
          ],
          "name": "stderr"
        },
        {
          "output_type": "stream",
          "text": [
            "4/4 [==============================] - 1s 96ms/step - loss: 2.3396 - accuracy: 0.3125\n"
          ],
          "name": "stdout"
        }
      ]
    }
  ]
}